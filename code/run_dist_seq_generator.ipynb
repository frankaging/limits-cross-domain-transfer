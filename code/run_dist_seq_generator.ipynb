{
 "cells": [
  {
   "cell_type": "code",
   "execution_count": 1,
   "metadata": {},
   "outputs": [],
   "source": [
    "# This generator is intended to generate\n",
    "# sequences with specified data distributions."
   ]
  },
  {
   "cell_type": "code",
   "execution_count": 58,
   "metadata": {},
   "outputs": [],
   "source": [
    "# Support sequence generations:\n",
    "\n",
    "# Token:\n",
    "# STRING\n",
    "# INT\n",
    "\n",
    "# Token frequency distributions:\n",
    "# RANDOM\n",
    "# ZIPF\n",
    "# NORM\n",
    "# BINOM\n",
    "\n",
    "# Pattern level:\n",
    "# N_GRAM\n",
    "\n",
    "# Tasks:\n",
    "# SUM (INT)\n",
    "# MEDIAN (INT)\n",
    "# MID_TOKEN (STRING, INT)"
   ]
  },
  {
   "cell_type": "code",
   "execution_count": 63,
   "metadata": {},
   "outputs": [],
   "source": [
    "import numpy as np\n",
    "import pandas as pd\n",
    "import random\n",
    "from scipy import special, stats\n",
    "from constants import *\n",
    "import matplotlib.pyplot as plt\n",
    "from collections import Counter\n",
    "from functools import partial\n",
    "%matplotlib inline"
   ]
  },
  {
   "cell_type": "code",
   "execution_count": 66,
   "metadata": {},
   "outputs": [],
   "source": [
    "class SeqLego:\n",
    "    def __init__(self):\n",
    "        pass\n",
    "    \n",
    "    def sum_game(self, dist_seq):\n",
    "        return sum(dist_seq)\n",
    "\n",
    "    def avg_game(self, dist_seq):\n",
    "        return sum(dist_seq)*1./len(dist_seq)\n",
    "    \n",
    "    def mid_token_game(self, dist_seq):\n",
    "        pass\n",
    "    \n",
    "    def median_game(self, dist_seq):\n",
    "        pass\n",
    "\n",
    "class DistSeq:\n",
    "    def __init__(self, max_token=50265, \n",
    "                 max_seq_len=32, avg_seq_len=16, min_seq_len=8,\n",
    "                 seq_len_dist=\"random\",\n",
    "                 vocab_file=None, \n",
    "                 game_name=\"SUM\"):\n",
    "        self.max_token = max_token\n",
    "        self.max_seq_len = max_seq_len\n",
    "        self.avg_seq_len = avg_seq_len\n",
    "        self.min_seq_len = min_seq_len\n",
    "        self.seq_len_dist = seq_len_dist\n",
    "    \n",
    "        if vocab_file == None:\n",
    "            self.tokens_list = np.arange(1, self.max_token+1)\n",
    "        else:\n",
    "            print(\"loading existing vocab: \", vocab_file)\n",
    "            # if a vocab is provided, we sampled from the vocab\n",
    "            load_vocab = load_bert_vocab(vocab_file)\n",
    "            words_list = [key for key in local_vocab.keys()]\n",
    "            self.tokens_list = random.choices(words_list, k=self.max_token)\n",
    "        self.vocab_idx = np.arange(1, self.max_token+1)\n",
    "        self.vocab = dict(zip(self.vocab_idx, self.tokens_list))\n",
    "\n",
    "        # zipf       \n",
    "        zipf_a = 1.01\n",
    "        self.zipf_prob = self.vocab_idx**(-zipf_a) / special.zetac(zipf_a)\n",
    "        np.random.shuffle(self.zipf_prob)\n",
    "        \n",
    "        # uniform\n",
    "        self.uniform_prob = [(1. / len(self.vocab_idx)) for _ in range(len(self.vocab_idx))]\n",
    "        np.random.shuffle(self.uniform_prob)\n",
    "        \n",
    "        # normal\n",
    "        norm_x = np.linspace(-3.0, 3.0, num=len(self.vocab_idx)) # make this fake x\n",
    "        self.normal_prob = stats.norm(0, 1).pdf(norm_x) # assume mean=0;var=1\n",
    "        np.random.shuffle(self.normal_prob)\n",
    "        \n",
    "        # game name\n",
    "        self.game_name = game_name\n",
    "        if self.game_name == \"SUM\":\n",
    "            self.game = partial(SeqLego().sum_game)  \n",
    "\n",
    "    def to_json(self, dist_seqs, seq_labels, dist_name):\n",
    "        d = {'sentence': dist_seqs, 'gold_label': seq_labels}\n",
    "        df = pd.DataFrame(data=d)\n",
    "        out_filename = f\"game-{self.game_name}-{dist_name}-dist-{len(dist_seqs)}-seq.jsonl\"\n",
    "        df.to_json(os.path.join(data_files_dirname, out_filename), \n",
    "                   orient=\"records\", lines=True)\n",
    "\n",
    "    def uniform(self, k=100, output=False):\n",
    "        dist_seqs = []\n",
    "        seq_labels = []\n",
    "        for _ in range(k):\n",
    "            seq_len = random.randint(self.min_seq_len, self.max_seq_len)\n",
    "            dist_seq = random.choices(self.vocab_idx, self.uniform_prob, k=seq_len)\n",
    "            dist_seqs.append([self.vocab[_id] for _id in dist_seq])\n",
    "            seq_labels.append(self.game(dist_seq))\n",
    "        if output:\n",
    "            self.to_json(dist_seqs, seq_labels, \"uniform\")\n",
    "        return dist_seqs, seq_labels\n",
    "    \n",
    "    def zipf(self, k=100, output=False):\n",
    "        dist_seqs = []\n",
    "        seq_labels = []\n",
    "        for _ in range(k):\n",
    "            seq_len = random.randint(self.min_seq_len, self.max_seq_len)\n",
    "            dist_seq = random.choices(self.vocab_idx, self.zipf_prob, k=seq_len)\n",
    "            dist_seqs.append([self.vocab[_id] for _id in dist_seq])\n",
    "            seq_labels.append(self.game(dist_seq))\n",
    "        if output:\n",
    "            self.to_json(dist_seqs, seq_labels, \"zipf\")\n",
    "        return dist_seqs, seq_labels\n",
    "\n",
    "    def norm(self, k=100, output=False):\n",
    "        dist_seqs = []\n",
    "        seq_labels = []\n",
    "        for _ in range(k):\n",
    "            seq_len = random.randint(self.min_seq_len, self.max_seq_len)\n",
    "            dist_seq = random.choices(self.vocab_idx, self.normal_prob, k=seq_len)\n",
    "            dist_seqs.append([self.vocab[_id] for _id in dist_seq])\n",
    "            seq_labels.append(self.game(dist_seq))\n",
    "        if output:\n",
    "            self.to_json(dist_seqs, seq_labels, \"norm\")\n",
    "        return dist_seqs, seq_labels\n",
    "    \n",
    "    def visualize_vocab_dist(self, dist_seqs):\n",
    "        flatten_dist_seqs = [j for sub in dist_seqs for j in sub]\n",
    "        counter_dist_seqs = Counter(flatten_dist_seqs)\n",
    "        \n",
    "        labels, values = zip(*counter_dist_seqs.items())\n",
    "        indSort = np.argsort(values)[::-1]\n",
    "        labels = np.array(labels)[indSort]\n",
    "        values = np.array(values)[indSort]\n",
    "        indexes = np.arange(len(labels))\n",
    "\n",
    "        bar_width = 0.35\n",
    "        plt.rcParams['axes.facecolor'] = 'white'\n",
    "        plt.rcParams['axes.edgecolor'] = \"black\"\n",
    "        fig = plt.figure(figsize=(5,5))\n",
    "        ax = fig.add_subplot(111)\n",
    "        plt.rcParams[\"font.family\"] = \"Times New Roman\"\n",
    "        plt.tight_layout()\n",
    "        plt.grid(color='black', linestyle='-.')\n",
    "        plt.bar(indexes, values, color=\"r\", alpha=0.5)\n",
    "        plt.title('Sorted Frequency Histogram')\n",
    "        plt.show()"
   ]
  },
  {
   "cell_type": "code",
   "execution_count": 76,
   "metadata": {},
   "outputs": [
    {
     "name": "stdout",
     "output_type": "stream",
     "text": [
      "loading existing vocab:  ../data_files/bert_vocab.txt\n"
     ]
    }
   ],
   "source": [
    "dsg = DistSeq(max_token=1000, vocab_file=bert_vocab_path)"
   ]
  },
  {
   "cell_type": "code",
   "execution_count": 81,
   "metadata": {},
   "outputs": [],
   "source": [
    "sampled_seqs, sampled_label = dsg.zipf(k=10000, output=True)"
   ]
  },
  {
   "cell_type": "code",
   "execution_count": 82,
   "metadata": {},
   "outputs": [
    {
     "data": {
      "image/png": "[encoded data removed]",
      "text/plain": [
       "<Figure size 360x360 with 1 Axes>"
      ]
     },
     "metadata": {
      "needs_background": "light"
     },
     "output_type": "display_data"
    }
   ],
   "source": [
    "dsg.visualize_vocab_dist(sampled_seqs)"
   ]
  },
  {
   "cell_type": "code",
   "execution_count": null,
   "metadata": {},
   "outputs": [],
   "source": []
  }
 ],
 "metadata": {
  "kernelspec": {
   "display_name": "Python 3",
   "language": "python",
   "name": "python3"
  },
  "language_info": {
   "codemirror_mode": {
    "name": "ipython",
    "version": 3
   },
   "file_extension": ".py",
   "mimetype": "text/x-python",
   "name": "python",
   "nbconvert_exporter": "python",
   "pygments_lexer": "ipython3",
   "version": "3.7.3"
  }
 },
 "nbformat": 4,
 "nbformat_minor": 4
}
