{
 "cells": [
  {
   "cell_type": "markdown",
   "metadata": {},
   "source": [
    "#### these scripts will mismatch original BERT vocab file"
   ]
  },
  {
   "cell_type": "code",
   "execution_count": null,
   "metadata": {},
   "outputs": [],
   "source": [
    "from vocab_mismatch_utils import *\n",
    "from data_formatter_utils import *\n",
    "from datasets import DatasetDict\n",
    "from datasets import Dataset\n",
    "from datasets import load_dataset\n",
    "import transformers\n",
    "import pandas as pd\n",
    "import operator\n",
    "from collections import OrderedDict\n",
    "from tqdm import tqdm, trange\n",
    "\n",
    "import collections\n",
    "import os\n",
    "import unicodedata\n",
    "from typing import List, Optional, Tuple\n",
    "\n",
    "from transformers.tokenization_utils import PreTrainedTokenizer, _is_control, _is_punctuation, _is_whitespace\n",
    "from transformers.utils import logging\n",
    "import torch\n",
    "logger = logging.get_logger(__name__)\n",
    "import numpy as np\n",
    "import copy\n",
    "from nltk.stem import WordNetLemmatizer\n",
    "lemmatizer = WordNetLemmatizer() \n",
    "from word_forms.word_forms import get_word_forms\n",
    "\n",
    "seed = 42\n",
    "# set seeds again at start\n",
    "torch.manual_seed(seed)\n",
    "np.random.seed(seed)\n",
    "random.seed(seed)"
   ]
  },
  {
   "cell_type": "code",
   "execution_count": 251,
   "metadata": {},
   "outputs": [],
   "source": [
    "# this tokenizer helps you to get piece length for each token\n",
    "modified_tokenizer = ModifiedBertTokenizer(\n",
    "    vocab_file=\"../data-files/bert_vocab.txt\")\n",
    "modified_basic_tokenizer = ModifiedBasicTokenizer()\n",
    "\n",
    "# translator to try it out!\n",
    "def corrupt_translator(in_string, tokenizer, vocab_match):\n",
    "    tokens = tokenizer.tokenize(in_string)\n",
    "    translate_tokens = [vocab_match[t] for t in tokens]\n",
    "    out_string = \" \".join(translate_tokens).replace(\" ##\", \"\").strip()\n",
    "    return out_string"
   ]
  },
  {
   "cell_type": "markdown",
   "metadata": {},
   "source": [
    "### Get mismatched vocab for each dataset first!"
   ]
  },
  {
   "cell_type": "markdown",
   "metadata": {},
   "source": [
    "**SST-3**: Random Corrupt with token piece length control only"
   ]
  },
  {
   "cell_type": "code",
   "execution_count": null,
   "metadata": {},
   "outputs": [],
   "source": [
    "# get normal sst-3\n",
    "sst_train_ternary = process_sst(os.path.join(sst_dirname, \"train.txt\"),\n",
    "                                full_ternary_class_func)\n",
    "sst_dev_ternary = process_sst(os.path.join(sst_dirname, \"dev.txt\"),\n",
    "                              full_ternary_class_func,\n",
    "                              include_subtrees=False)\n",
    "sst_test_ternary = process_sst(os.path.join(sst_dirname, \"test.txt\"),\n",
    "                               full_ternary_class_func,\n",
    "                               include_subtrees=False)\n",
    "# these are the original processed sst-tenary data\n",
    "write_tsv(sst_train_ternary, output_filename=os.path.join(external_output_dirname, \"sst-tenary\", \"sst-tenary-train.tsv\"))\n",
    "write_tsv(sst_dev_ternary, output_filename=os.path.join(external_output_dirname, \"sst-tenary\", \"sst-tenary-dev.tsv\"))\n",
    "write_tsv(sst_test_ternary, output_filename=os.path.join(external_output_dirname, \"sst-tenary\", \"sst-tenary-test.tsv\"))"
   ]
  },
  {
   "cell_type": "code",
   "execution_count": null,
   "metadata": {},
   "outputs": [],
   "source": [
    "# let us corrupt SST3 in the same way as before\n",
    "train_df = pd.read_csv(os.path.join(external_output_dirname, \"sst-tenary\", \"sst-tenary-train.tsv\"), delimiter=\"\\t\")\n",
    "eval_df = pd.read_csv(os.path.join(external_output_dirname, \"sst-tenary\", \"sst-tenary-dev.tsv\"), delimiter=\"\\t\")\n",
    "test_df = pd.read_csv(os.path.join(external_output_dirname, \"sst-tenary\", \"sst-tenary-test.tsv\"), delimiter=\"\\t\")\n",
    "\n",
    "train_df = Dataset.from_pandas(train_df)\n",
    "eval_df = Dataset.from_pandas(eval_df)\n",
    "test_df = Dataset.from_pandas(test_df)\n",
    "\n",
    "token_by_length = {} # overwrite this everytime for a new dataset\n",
    "train_df = train_df.map(token_length_mapping)\n",
    "eval_df = eval_df.map(token_length_mapping)\n",
    "test_df = test_df.map(token_length_mapping)\n",
    "\n",
    "vocab_match_by_piece_length = generate_vocab_match(token_by_length) # you can also save this to avoid reprocess it again"
   ]
  },
  {
   "cell_type": "code",
   "execution_count": 239,
   "metadata": {},
   "outputs": [],
   "source": [
    "# a little quality control\n",
    "count = 0\n",
    "for k, v in vocab_match_by_piece_length.items():\n",
    "    if k == v:\n",
    "        count += 1\n",
    "count/len(vocab_match_by_piece_length)\n",
    "assert len(list(set(vocab_match_by_piece_length.keys()))) == \\\n",
    "            len(list(set(vocab_match_by_piece_length.values())))"
   ]
  },
  {
   "cell_type": "code",
   "execution_count": 246,
   "metadata": {},
   "outputs": [
    {
     "data": {
      "text/plain": [
       "'breed fashion toast decidedly received'"
      ]
     },
     "execution_count": 246,
     "metadata": {},
     "output_type": "execute_result"
    }
   ],
   "source": [
    "corrupt_translator(\"this movie is great!\", modified_basic_tokenizer, vocab_match_by_piece_length)"
   ]
  },
  {
   "cell_type": "markdown",
   "metadata": {},
   "source": [
    "**SST-3**: Random Corrupt with token piece length control and frequency and lemma"
   ]
  },
  {
   "cell_type": "code",
   "execution_count": null,
   "metadata": {},
   "outputs": [],
   "source": [
    "# setups\n",
    "token_frequency_map = {} # overwrite this everytime for a new dataset\n",
    "train_df = train_df.map(token_frequency_mapping)\n",
    "eval_df = eval_df.map(token_frequency_mapping)\n",
    "test_df = test_df.map(token_frequency_mapping)\n",
    "token_frequency_map = sorted(token_frequency_map.items(), key=operator.itemgetter(1), reverse=True)\n",
    "token_frequency_map = OrderedDict(token_frequency_map)\n",
    "\n",
    "# also get lemma matching to prevent same lemma matching\n",
    "token_lemma_map = token_lemma_mapping(vocab_match_by_piece_length)\n",
    "\n",
    "vocab_match_by_piece_length_frequency_lemma = generate_vocab_match(token_by_length, token_frequency_map, token_lemma_map)"
   ]
  },
  {
   "cell_type": "code",
   "execution_count": 237,
   "metadata": {},
   "outputs": [],
   "source": [
    "# a little quality control\n",
    "count = 0\n",
    "for k, v in vocab_match_by_piece_length_frequency_lemma.items():\n",
    "    if k == v:\n",
    "        count += 1\n",
    "count/len(vocab_match_by_piece_length_frequency_lemma)\n",
    "assert len(list(set(vocab_match_by_piece_length_frequency_lemma.keys()))) == \\\n",
    "            len(list(set(vocab_match_by_piece_length_frequency_lemma.values())))"
   ]
  },
  {
   "cell_type": "code",
   "execution_count": 250,
   "metadata": {},
   "outputs": [
    {
     "data": {
      "text/plain": [
       "'t you film re cold'"
      ]
     },
     "execution_count": 250,
     "metadata": {},
     "output_type": "execute_result"
    }
   ],
   "source": [
    "corrupt_translator(\"this movie is great!\", modified_basic_tokenizer, vocab_match_by_piece_length_frequency_lemma)"
   ]
  },
  {
   "cell_type": "markdown",
   "metadata": {},
   "source": [
    "**MNLI**: Random Corrupt with token piece length control only"
   ]
  },
  {
   "cell_type": "code",
   "execution_count": 238,
   "metadata": {},
   "outputs": [],
   "source": [
    "# TODOs"
   ]
  },
  {
   "cell_type": "markdown",
   "metadata": {},
   "source": [
    "### Now, let us corrupt all datasets!"
   ]
  },
  {
   "cell_type": "markdown",
   "metadata": {},
   "source": [
    "#### Corrupted SST-3 \n",
    "by token piece length only"
   ]
  },
  {
   "cell_type": "code",
   "execution_count": 252,
   "metadata": {},
   "outputs": [
    {
     "data": {
      "application/vnd.jupyter.widget-view+json": {
       "model_id": "1d7fab58e4ff4a1cbc0c817ff587b14e",
       "version_major": 2,
       "version_minor": 0
      },
      "text/plain": [
       "HBox(children=(FloatProgress(value=0.0, max=159274.0), HTML(value='')))"
      ]
     },
     "metadata": {},
     "output_type": "display_data"
    },
    {
     "name": "stdout",
     "output_type": "stream",
     "text": [
      "\n"
     ]
    },
    {
     "data": {
      "application/vnd.jupyter.widget-view+json": {
       "model_id": "9df2c0ad0dc04eb7b428123dd4955c47",
       "version_major": 2,
       "version_minor": 0
      },
      "text/plain": [
       "HBox(children=(FloatProgress(value=0.0, max=1100.0), HTML(value='')))"
      ]
     },
     "metadata": {},
     "output_type": "display_data"
    },
    {
     "name": "stdout",
     "output_type": "stream",
     "text": [
      "\n"
     ]
    },
    {
     "data": {
      "application/vnd.jupyter.widget-view+json": {
       "model_id": "37176d3417e04f45968cd989f126954e",
       "version_major": 2,
       "version_minor": 0
      },
      "text/plain": [
       "HBox(children=(FloatProgress(value=0.0, max=2210.0), HTML(value='')))"
      ]
     },
     "metadata": {},
     "output_type": "display_data"
    },
    {
     "name": "stdout",
     "output_type": "stream",
     "text": [
      "\n"
     ]
    }
   ],
   "source": [
    "def random_corrupt(example):\n",
    "    original_sentence = example['text']\n",
    "    corrupted_sentence = corrupt_translator(original_sentence, modified_basic_tokenizer, vocab_match_by_piece_length)\n",
    "    example['text'] = corrupted_sentence\n",
    "    return example\n",
    "\n",
    "corrupted_train_dataset = train_df.map(random_corrupt)\n",
    "corrupted_validation_dataset = eval_df.map(random_corrupt)\n",
    "corrupted_test_dataset = test_df.map(random_corrupt)\n",
    "\n",
    "corrupted_datasets = DatasetDict({\"train\":corrupted_train_dataset, \n",
    "                                  \"validation\":corrupted_validation_dataset, \n",
    "                                  \"test\":corrupted_test_dataset})\n",
    "corrupted_datasets.save_to_disk(\"../data-files/sst-tenary-corrupted-length\")"
   ]
  },
  {
   "cell_type": "markdown",
   "metadata": {},
   "source": [
    "#### Corrupted SST-3 \n",
    "by frequency as well"
   ]
  },
  {
   "cell_type": "code",
   "execution_count": 253,
   "metadata": {},
   "outputs": [
    {
     "data": {
      "application/vnd.jupyter.widget-view+json": {
       "model_id": "c462ff932b9b4f48baa89f7a8f030cb1",
       "version_major": 2,
       "version_minor": 0
      },
      "text/plain": [
       "HBox(children=(FloatProgress(value=0.0, max=159274.0), HTML(value='')))"
      ]
     },
     "metadata": {},
     "output_type": "display_data"
    },
    {
     "name": "stdout",
     "output_type": "stream",
     "text": [
      "\n"
     ]
    },
    {
     "data": {
      "application/vnd.jupyter.widget-view+json": {
       "model_id": "7b3deb8c8871446da3a8061d1b8269d9",
       "version_major": 2,
       "version_minor": 0
      },
      "text/plain": [
       "HBox(children=(FloatProgress(value=0.0, max=1100.0), HTML(value='')))"
      ]
     },
     "metadata": {},
     "output_type": "display_data"
    },
    {
     "name": "stdout",
     "output_type": "stream",
     "text": [
      "\n"
     ]
    },
    {
     "data": {
      "application/vnd.jupyter.widget-view+json": {
       "model_id": "c1941ef9c0244a5191e8eb6281703f09",
       "version_major": 2,
       "version_minor": 0
      },
      "text/plain": [
       "HBox(children=(FloatProgress(value=0.0, max=2210.0), HTML(value='')))"
      ]
     },
     "metadata": {},
     "output_type": "display_data"
    },
    {
     "name": "stdout",
     "output_type": "stream",
     "text": [
      "\n"
     ]
    }
   ],
   "source": [
    "def random_corrupt_new(example):\n",
    "    original_sentence = example['text']\n",
    "    corrupted_sentence = corrupt_translator(original_sentence, modified_basic_tokenizer, vocab_match_by_piece_length_frequency_lemma)\n",
    "    example['text'] = corrupted_sentence\n",
    "    return example\n",
    "\n",
    "corrupted_train_dataset = train_df.map(random_corrupt_new)\n",
    "corrupted_validation_dataset = eval_df.map(random_corrupt_new)\n",
    "corrupted_test_dataset = test_df.map(random_corrupt_new)\n",
    "\n",
    "corrupted_datasets = DatasetDict({\"train\":corrupted_train_dataset, \n",
    "                                  \"validation\":corrupted_validation_dataset, \n",
    "                                  \"test\":corrupted_test_dataset})\n",
    "corrupted_datasets.save_to_disk(\"../data-files/sst-tenary-corrupted-freq\")"
   ]
  },
  {
   "cell_type": "code",
   "execution_count": null,
   "metadata": {},
   "outputs": [],
   "source": []
  },
  {
   "cell_type": "code",
   "execution_count": 254,
   "metadata": {},
   "outputs": [],
   "source": [
    "# TODO: update the rest!"
   ]
  },
  {
   "cell_type": "markdown",
   "metadata": {},
   "source": [
    "#### Corrupted MNLI"
   ]
  },
  {
   "cell_type": "code",
   "execution_count": null,
   "metadata": {},
   "outputs": [],
   "source": [
    "mnli_map = {'entailment': 0, 'neutral' : 1, 'contradiction' : 2}\n",
    "def process_mnli(dataset, split):\n",
    "    data_all = []\n",
    "    for example in dataset[split]:\n",
    "        premise = example['premise']\n",
    "        hypothesis = example['hypothesis']\n",
    "        label = example['label']\n",
    "        if label in [0,1,2]:\n",
    "            data = {\"premise\" : premise, \n",
    "                    \"hypothesis\" : hypothesis, \n",
    "                    \"label\" : label}\n",
    "        data_all.append(data)\n",
    "    return data_all\n",
    "\n",
    "def mnli_write_tsv(*datasets, output_filename):\n",
    "    all_data = []\n",
    "    for dataset in datasets:\n",
    "        all_data += dataset\n",
    "    random.shuffle(all_data)\n",
    "    with open(output_filename, \"wt\") as f:\n",
    "        writer = csv.DictWriter(f, delimiter=\"\\t\", fieldnames=['premise', 'hypothesis', 'label'])\n",
    "        writer.writeheader()\n",
    "        writer.writerows(all_data)\n",
    "        \n",
    "def mnli_random_corrupt(example):\n",
    "    original_premise = example['premise']\n",
    "    original_hypothesis = example['hypothesis']\n",
    "    if original_hypothesis == None:\n",
    "        original_hypothesis = \"\"\n",
    "    try:\n",
    "        original_premise_tokens = original_tokenizer.tokenize(original_premise)\n",
    "        original_hypothesis_tokens = original_tokenizer.tokenize(original_hypothesis)\n",
    "    except:\n",
    "        print(\"Please debug these sequence...\")\n",
    "        print(original_premise)\n",
    "        print(original_hypothesis)\n",
    "    corrupted_premise_tokens = []\n",
    "    corrupted_hypothesis_tokens = []\n",
    "    for ori_t in original_premise_tokens:\n",
    "        if ori_t in token_mapping.keys():\n",
    "            cor_t = token_mapping[ori_t]\n",
    "        else:\n",
    "            cor_t = ori_t\n",
    "        corrupted_premise_tokens.append(cor_t)\n",
    "    for ori_t in original_hypothesis_tokens:\n",
    "        if ori_t in token_mapping.keys():\n",
    "            cor_t = token_mapping[ori_t]\n",
    "        else:\n",
    "            cor_t = ori_t\n",
    "        corrupted_hypothesis_tokens.append(cor_t)\n",
    "\n",
    "    example['premise'] = original_tokenizer.convert_tokens_to_string(corrupted_premise_tokens)\n",
    "    example['hypothesis'] = original_tokenizer.convert_tokens_to_string(corrupted_hypothesis_tokens)\n",
    "    return example"
   ]
  },
  {
   "cell_type": "code",
   "execution_count": null,
   "metadata": {},
   "outputs": [],
   "source": [
    "dataset = load_dataset('glue', 'mnli')"
   ]
  },
  {
   "cell_type": "code",
   "execution_count": null,
   "metadata": {},
   "outputs": [],
   "source": [
    "mnli_train = process_mnli(dataset, \"train\")\n",
    "mnli_validation_matched = process_mnli(dataset, \"validation_matched\")"
   ]
  },
  {
   "cell_type": "code",
   "execution_count": null,
   "metadata": {},
   "outputs": [],
   "source": [
    "mnli_write_tsv(mnli_train, output_filename=os.path.join(external_output_dirname, \"mnli\", \"mnli-train.tsv\"))\n",
    "mnli_write_tsv(mnli_validation_matched, output_filename=os.path.join(external_output_dirname, \"mnli\", \"mnli-dev.tsv\"))"
   ]
  },
  {
   "cell_type": "code",
   "execution_count": null,
   "metadata": {},
   "outputs": [],
   "source": [
    "# let us corrupt SST3 in the same way as before\n",
    "train_df = pd.read_csv(os.path.join(external_output_dirname, \"mnli\", \"mnli-train.tsv\"), delimiter=\"\\t\")\n",
    "eval_df = pd.read_csv(os.path.join(external_output_dirname, \"mnli\", \"mnli-dev.tsv\"), delimiter=\"\\t\")\n",
    "\n",
    "train_df = Dataset.from_pandas(train_df)\n",
    "eval_df = Dataset.from_pandas(eval_df)\n",
    "\n",
    "corrupted_train_dataset = train_df.map(mnli_random_corrupt)\n",
    "corrupted_validation_dataset = eval_df.map(mnli_random_corrupt)\n",
    "\n",
    "corrupted_datasets = DatasetDict({\"train\":corrupted_train_dataset, \n",
    "                                  \"validation\":corrupted_validation_dataset})\n",
    "corrupted_datasets.save_to_disk(\"../data-files/mnli-corrupted\")"
   ]
  },
  {
   "cell_type": "code",
   "execution_count": null,
   "metadata": {},
   "outputs": [],
   "source": [
    "corrupted_validation_dataset[1]"
   ]
  },
  {
   "cell_type": "markdown",
   "metadata": {},
   "source": [
    "#### Corrupted CoLA"
   ]
  },
  {
   "cell_type": "code",
   "execution_count": null,
   "metadata": {},
   "outputs": [],
   "source": [
    "def process_cola(dataset, split):\n",
    "    data_all = []\n",
    "    for example in dataset[split]:\n",
    "        sentence = example['sentence']\n",
    "        label = example['label']\n",
    "        data = {\"sentence\" : sentence,\n",
    "                \"label\" : label}\n",
    "        data_all.append(data)\n",
    "    return data_all\n",
    "\n",
    "def cola_write_tsv(*datasets, output_filename):\n",
    "    all_data = []\n",
    "    for dataset in datasets:\n",
    "        all_data += dataset\n",
    "    random.shuffle(all_data)\n",
    "    with open(output_filename, \"wt\") as f:\n",
    "        writer = csv.DictWriter(f, delimiter=\"\\t\", fieldnames=['sentence', 'label'])\n",
    "        writer.writeheader()\n",
    "        writer.writerows(all_data)\n",
    "        \n",
    "def cola_random_corrupt(example):\n",
    "    original_sentence = example['sentence']\n",
    "    original_tokens = original_tokenizer.tokenize(original_sentence)\n",
    "    corrupted_tokens = []\n",
    "    for ori_t in original_tokens:\n",
    "        if ori_t in token_mapping.keys():\n",
    "            cor_t = token_mapping[ori_t]\n",
    "        else:\n",
    "            cor_t = ori_t\n",
    "        corrupted_tokens.append(cor_t)\n",
    "    example['sentence'] = original_tokenizer.convert_tokens_to_string(corrupted_tokens)\n",
    "    return example"
   ]
  },
  {
   "cell_type": "code",
   "execution_count": null,
   "metadata": {},
   "outputs": [],
   "source": [
    "dataset = load_dataset('glue', 'cola')"
   ]
  },
  {
   "cell_type": "code",
   "execution_count": null,
   "metadata": {},
   "outputs": [],
   "source": [
    "cola_train = process_cola(dataset, \"train\")\n",
    "cola_validation = process_cola(dataset, \"validation\")\n",
    "cola_test = process_cola(dataset, \"test\")"
   ]
  },
  {
   "cell_type": "code",
   "execution_count": null,
   "metadata": {},
   "outputs": [],
   "source": [
    "cola_write_tsv(cola_train, output_filename=os.path.join(external_output_dirname, \"cola\", \"cola-train.tsv\"))\n",
    "cola_write_tsv(cola_validation, output_filename=os.path.join(external_output_dirname, \"cola\", \"cola-dev.tsv\"))\n",
    "cola_write_tsv(cola_test, output_filename=os.path.join(external_output_dirname, \"cola\", \"cola-test.tsv\"))"
   ]
  },
  {
   "cell_type": "code",
   "execution_count": null,
   "metadata": {},
   "outputs": [],
   "source": [
    "# let us corrupt SST3 in the same way as before\n",
    "train_df = pd.read_csv(os.path.join(external_output_dirname, \"cola\", \"cola-train.tsv\"), delimiter=\"\\t\")\n",
    "eval_df = pd.read_csv(os.path.join(external_output_dirname, \"cola\", \"cola-dev.tsv\"), delimiter=\"\\t\")\n",
    "test_df = pd.read_csv(os.path.join(external_output_dirname, \"cola\", \"cola-test.tsv\"), delimiter=\"\\t\")\n",
    "\n",
    "train_df = Dataset.from_pandas(train_df)\n",
    "eval_df = Dataset.from_pandas(eval_df)\n",
    "test_df = Dataset.from_pandas(test_df)\n",
    "\n",
    "corrupted_train_dataset = train_df.map(cola_random_corrupt)\n",
    "corrupted_validation_dataset = eval_df.map(cola_random_corrupt)\n",
    "corrupted_test_dataset = test_df.map(cola_random_corrupt)\n",
    "\n",
    "corrupted_datasets = DatasetDict({\"train\":corrupted_train_dataset, \n",
    "                                  \"validation\":corrupted_validation_dataset, \n",
    "                                  \"test\":corrupted_test_dataset})\n",
    "corrupted_datasets.save_to_disk(\"../data-files/cola-corrupted\")"
   ]
  },
  {
   "cell_type": "markdown",
   "metadata": {},
   "source": [
    "#### Corrupted SNLI"
   ]
  },
  {
   "cell_type": "code",
   "execution_count": null,
   "metadata": {},
   "outputs": [],
   "source": [
    "mnli_map = {'entailment': 0, 'neutral' : 1, 'contradiction' : 2}\n",
    "def process_snli(dataset, split):\n",
    "    data_all = []\n",
    "    for example in dataset[split]:\n",
    "        premise = example['premise']\n",
    "        hypothesis = example['hypothesis']\n",
    "        label = example['label']\n",
    "        if label in [0,1,2]:\n",
    "            data = {\"premise\" : premise, \n",
    "                    \"hypothesis\" : hypothesis, \n",
    "                    \"label\" : label}\n",
    "            data_all.append(data)\n",
    "    return data_all\n",
    "\n",
    "def snli_write_tsv(*datasets, output_filename):\n",
    "    all_data = []\n",
    "    for dataset in datasets:\n",
    "        all_data += dataset\n",
    "    random.shuffle(all_data)\n",
    "    with open(output_filename, \"wt\") as f:\n",
    "        writer = csv.DictWriter(f, delimiter=\"\\t\", fieldnames=['premise', 'hypothesis', 'label'])\n",
    "        writer.writeheader()\n",
    "        writer.writerows(all_data)\n",
    "        \n",
    "def snli_random_corrupt(example):\n",
    "    original_premise = example['premise']\n",
    "    original_hypothesis = example['hypothesis']\n",
    "    if original_hypothesis == None:\n",
    "        original_hypothesis = \"\"\n",
    "    try:\n",
    "        original_premise_tokens = original_tokenizer.tokenize(original_premise)\n",
    "        original_hypothesis_tokens = original_tokenizer.tokenize(original_hypothesis)\n",
    "    except:\n",
    "        print(\"Please debug these sequence...\")\n",
    "        print(original_premise)\n",
    "        print(original_hypothesis)\n",
    "    corrupted_premise_tokens = []\n",
    "    corrupted_hypothesis_tokens = []\n",
    "    for ori_t in original_premise_tokens:\n",
    "        if ori_t in token_mapping.keys():\n",
    "            cor_t = token_mapping[ori_t]\n",
    "        else:\n",
    "            cor_t = ori_t\n",
    "        corrupted_premise_tokens.append(cor_t)\n",
    "    for ori_t in original_hypothesis_tokens:\n",
    "        if ori_t in token_mapping.keys():\n",
    "            cor_t = token_mapping[ori_t]\n",
    "        else:\n",
    "            cor_t = ori_t\n",
    "        corrupted_hypothesis_tokens.append(cor_t)\n",
    "\n",
    "    example['premise'] = original_tokenizer.convert_tokens_to_string(corrupted_premise_tokens)\n",
    "    example['hypothesis'] = original_tokenizer.convert_tokens_to_string(corrupted_hypothesis_tokens)\n",
    "    return example"
   ]
  },
  {
   "cell_type": "code",
   "execution_count": null,
   "metadata": {},
   "outputs": [],
   "source": [
    "dataset = load_dataset('snli')"
   ]
  },
  {
   "cell_type": "code",
   "execution_count": null,
   "metadata": {},
   "outputs": [],
   "source": [
    "snli_train = process_snli(dataset, \"train\")\n",
    "snli_validation = process_snli(dataset, \"validation\")\n",
    "snli_test = process_snli(dataset, \"test\")"
   ]
  },
  {
   "cell_type": "code",
   "execution_count": null,
   "metadata": {},
   "outputs": [],
   "source": [
    "snli_write_tsv(snli_train, output_filename=os.path.join(external_output_dirname, \"snli\", \"snli-train.tsv\"))\n",
    "snli_write_tsv(snli_validation, output_filename=os.path.join(external_output_dirname, \"snli\", \"snli-dev.tsv\"))\n",
    "snli_write_tsv(snli_test, output_filename=os.path.join(external_output_dirname, \"snli\", \"snli-test.tsv\"))"
   ]
  },
  {
   "cell_type": "code",
   "execution_count": null,
   "metadata": {},
   "outputs": [],
   "source": [
    "# let us corrupt SST3 in the same way as before\n",
    "train_df = pd.read_csv(os.path.join(external_output_dirname, \"snli\", \"snli-train.tsv\"), delimiter=\"\\t\")\n",
    "eval_df = pd.read_csv(os.path.join(external_output_dirname, \"snli\", \"snli-dev.tsv\"), delimiter=\"\\t\")\n",
    "test_df = pd.read_csv(os.path.join(external_output_dirname, \"snli\", \"snli-test.tsv\"), delimiter=\"\\t\")\n",
    "\n",
    "train_df = Dataset.from_pandas(train_df)\n",
    "eval_df = Dataset.from_pandas(eval_df)\n",
    "test_df = Dataset.from_pandas(test_df)\n",
    "\n",
    "corrupted_train_dataset = train_df.map(snli_random_corrupt)\n",
    "corrupted_validation_dataset = eval_df.map(snli_random_corrupt)\n",
    "corrupted_test_dataset = test_df.map(snli_random_corrupt)\n",
    "\n",
    "corrupted_datasets = DatasetDict({\"train\":corrupted_train_dataset, \n",
    "                                  \"validation\":corrupted_validation_dataset,\n",
    "                                  \"test\":corrupted_test_dataset})\n",
    "corrupted_datasets.save_to_disk(\"../data-files/snli-corrupted\")"
   ]
  },
  {
   "cell_type": "markdown",
   "metadata": {},
   "source": [
    "#### MRPC"
   ]
  },
  {
   "cell_type": "code",
   "execution_count": null,
   "metadata": {},
   "outputs": [],
   "source": [
    "def process_mrpc(dataset, split):\n",
    "    data_all = []\n",
    "    for example in dataset[split]:\n",
    "        premise = example['sentence1']\n",
    "        hypothesis = example['sentence2']\n",
    "        label = example['label']\n",
    "        data = {\"sentence1\" : premise, \n",
    "                \"sentence2\" : hypothesis, \n",
    "                \"label\" : label}\n",
    "        if label in [0,1]:\n",
    "            data_all.append(data)\n",
    "        else:\n",
    "            # print(\"Some data to look into...\")\n",
    "            # print(data)\n",
    "            continue\n",
    "    return data_all\n",
    "\n",
    "def mrpc_write_tsv(*datasets, output_filename):\n",
    "    all_data = []\n",
    "    for dataset in datasets:\n",
    "        all_data += dataset\n",
    "    random.shuffle(all_data)\n",
    "    with open(output_filename, \"wt\") as f:\n",
    "        writer = csv.DictWriter(f, delimiter=\"\\t\", fieldnames=['sentence1', 'sentence2', 'label'])\n",
    "        writer.writeheader()\n",
    "        writer.writerows(all_data)\n",
    "        \n",
    "def mrpc_random_corrupt(example):\n",
    "    original_premise = example['sentence1']\n",
    "    original_hypothesis = example['sentence2']\n",
    "    if original_hypothesis == None:\n",
    "        original_hypothesis = \"\"\n",
    "    try:\n",
    "        original_premise_tokens = original_tokenizer.tokenize(original_premise)\n",
    "        original_hypothesis_tokens = original_tokenizer.tokenize(original_hypothesis)\n",
    "    except:\n",
    "        print(\"Please debug these sequence...\")\n",
    "        print(original_premise)\n",
    "        print(original_hypothesis)\n",
    "    corrupted_premise_tokens = []\n",
    "    corrupted_hypothesis_tokens = []\n",
    "    for ori_t in original_premise_tokens:\n",
    "        if ori_t in token_mapping.keys():\n",
    "            cor_t = token_mapping[ori_t]\n",
    "        else:\n",
    "            cor_t = ori_t\n",
    "        corrupted_premise_tokens.append(cor_t)\n",
    "    for ori_t in original_hypothesis_tokens:\n",
    "        if ori_t in token_mapping.keys():\n",
    "            cor_t = token_mapping[ori_t]\n",
    "        else:\n",
    "            cor_t = ori_t\n",
    "        corrupted_hypothesis_tokens.append(cor_t)\n",
    "\n",
    "    example['sentence1'] = original_tokenizer.convert_tokens_to_string(corrupted_premise_tokens)\n",
    "    example['sentence2'] = original_tokenizer.convert_tokens_to_string(corrupted_hypothesis_tokens)\n",
    "    return example"
   ]
  },
  {
   "cell_type": "code",
   "execution_count": null,
   "metadata": {},
   "outputs": [],
   "source": [
    "mrpc_dataset = load_dataset('glue', 'mrpc')"
   ]
  },
  {
   "cell_type": "code",
   "execution_count": null,
   "metadata": {},
   "outputs": [],
   "source": [
    "mrpc_train = process_mrpc(mrpc_dataset, \"train\")\n",
    "mrpc_validation = process_mrpc(mrpc_dataset, \"validation\")\n",
    "mrpc_test = process_mrpc(mrpc_dataset, \"test\")"
   ]
  },
  {
   "cell_type": "code",
   "execution_count": null,
   "metadata": {},
   "outputs": [],
   "source": [
    "mrpc_write_tsv(mrpc_train, output_filename=os.path.join(external_output_dirname, \"mrpc\", \"mrpc-train.tsv\"))\n",
    "mrpc_write_tsv(mrpc_validation, output_filename=os.path.join(external_output_dirname, \"mrpc\", \"mrpc-dev.tsv\"))\n",
    "mrpc_write_tsv(mrpc_test, output_filename=os.path.join(external_output_dirname, \"mrpc\", \"mrpc-test.tsv\"))"
   ]
  },
  {
   "cell_type": "code",
   "execution_count": null,
   "metadata": {},
   "outputs": [],
   "source": [
    "# let us corrupt SST3 in the same way as before\n",
    "train_df = pd.read_csv(os.path.join(external_output_dirname, \"mrpc\", \"mrpc-train.tsv\"), delimiter=\"\\t\")\n",
    "eval_df = pd.read_csv(os.path.join(external_output_dirname, \"mrpc\", \"mrpc-dev.tsv\"), delimiter=\"\\t\")\n",
    "test_df = pd.read_csv(os.path.join(external_output_dirname, \"mrpc\", \"mrpc-test.tsv\"), delimiter=\"\\t\")\n",
    "\n",
    "train_df = Dataset.from_pandas(train_df)\n",
    "eval_df = Dataset.from_pandas(eval_df)\n",
    "test_df = Dataset.from_pandas(test_df)\n",
    "\n",
    "corrupted_train_dataset = train_df.map(mrpc_random_corrupt)\n",
    "corrupted_validation_dataset = eval_df.map(mrpc_random_corrupt)\n",
    "corrupted_test_dataset = test_df.map(mrpc_random_corrupt)\n",
    "\n",
    "corrupted_datasets = DatasetDict({\"train\":corrupted_train_dataset, \n",
    "                                  \"validation\":corrupted_validation_dataset,\n",
    "                                  \"test\":corrupted_test_dataset})\n",
    "corrupted_datasets.save_to_disk(\"../data-files/mrpc-corrupted\")"
   ]
  },
  {
   "cell_type": "markdown",
   "metadata": {},
   "source": [
    "#### QNLI"
   ]
  },
  {
   "cell_type": "code",
   "execution_count": null,
   "metadata": {},
   "outputs": [],
   "source": [
    "def process_qnli(dataset, split):\n",
    "    data_all = []\n",
    "    for example in dataset[split]:\n",
    "        premise = example['question']\n",
    "        hypothesis = example['sentence']\n",
    "        label = example['label']\n",
    "        data = {\"question\" : premise, \n",
    "                \"sentence\" : hypothesis, \n",
    "                \"label\" : label}\n",
    "        if label in [0,1]:\n",
    "            data_all.append(data)\n",
    "        else:\n",
    "            # print(\"Some data to look into...\")\n",
    "            # print(data)\n",
    "            continue\n",
    "    return data_all\n",
    "\n",
    "def qnli_write_tsv(*datasets, output_filename):\n",
    "    all_data = []\n",
    "    for dataset in datasets:\n",
    "        all_data += dataset\n",
    "    random.shuffle(all_data)\n",
    "    with open(output_filename, \"wt\") as f:\n",
    "        writer = csv.DictWriter(f, delimiter=\"\\t\", fieldnames=['question', 'sentence', 'label'])\n",
    "        writer.writeheader()\n",
    "        writer.writerows(all_data)\n",
    "        \n",
    "def qnli_random_corrupt(example):\n",
    "    original_premise = example['question']\n",
    "    original_hypothesis = example['sentence']\n",
    "    if original_hypothesis == None:\n",
    "        original_hypothesis = \"\"\n",
    "    try:\n",
    "        original_premise_tokens = original_tokenizer.tokenize(original_premise)\n",
    "        original_hypothesis_tokens = original_tokenizer.tokenize(original_hypothesis)\n",
    "    except:\n",
    "        print(\"Please debug these sequence...\")\n",
    "        print(original_premise)\n",
    "        print(original_hypothesis)\n",
    "    corrupted_premise_tokens = []\n",
    "    corrupted_hypothesis_tokens = []\n",
    "    for ori_t in original_premise_tokens:\n",
    "        if ori_t in token_mapping.keys():\n",
    "            cor_t = token_mapping[ori_t]\n",
    "        else:\n",
    "            cor_t = ori_t\n",
    "        corrupted_premise_tokens.append(cor_t)\n",
    "    for ori_t in original_hypothesis_tokens:\n",
    "        if ori_t in token_mapping.keys():\n",
    "            cor_t = token_mapping[ori_t]\n",
    "        else:\n",
    "            cor_t = ori_t\n",
    "        corrupted_hypothesis_tokens.append(cor_t)\n",
    "\n",
    "    example['question'] = original_tokenizer.convert_tokens_to_string(corrupted_premise_tokens)\n",
    "    example['sentence'] = original_tokenizer.convert_tokens_to_string(corrupted_hypothesis_tokens)\n",
    "    return example"
   ]
  },
  {
   "cell_type": "code",
   "execution_count": null,
   "metadata": {},
   "outputs": [],
   "source": [
    "qnli_dataset = load_dataset('glue', 'qnli')"
   ]
  },
  {
   "cell_type": "code",
   "execution_count": null,
   "metadata": {},
   "outputs": [],
   "source": [
    "qnli_train = process_qnli(qnli_dataset, \"train\")\n",
    "qnli_validation = process_qnli(qnli_dataset, \"validation\")\n",
    "qnli_test = process_qnli(qnli_dataset, \"test\")"
   ]
  },
  {
   "cell_type": "code",
   "execution_count": null,
   "metadata": {},
   "outputs": [],
   "source": [
    "qnli_write_tsv(qnli_train, output_filename=os.path.join(external_output_dirname, \"qnli\", \"qnli-train.tsv\"))\n",
    "qnli_write_tsv(qnli_validation, output_filename=os.path.join(external_output_dirname, \"qnli\", \"qnli-dev.tsv\"))\n",
    "qnli_write_tsv(qnli_test, output_filename=os.path.join(external_output_dirname, \"qnli\", \"qnli-test.tsv\"))"
   ]
  },
  {
   "cell_type": "code",
   "execution_count": null,
   "metadata": {},
   "outputs": [],
   "source": [
    "# let us corrupt SST3 in the same way as before\n",
    "train_df = pd.read_csv(os.path.join(external_output_dirname, \"qnli\", \"qnli-train.tsv\"), delimiter=\"\\t\")\n",
    "eval_df = pd.read_csv(os.path.join(external_output_dirname, \"qnli\", \"qnli-dev.tsv\"), delimiter=\"\\t\")\n",
    "test_df = pd.read_csv(os.path.join(external_output_dirname, \"qnli\", \"qnli-test.tsv\"), delimiter=\"\\t\")\n",
    "\n",
    "train_df = Dataset.from_pandas(train_df)\n",
    "eval_df = Dataset.from_pandas(eval_df)\n",
    "test_df = Dataset.from_pandas(test_df)\n",
    "\n",
    "corrupted_train_dataset = train_df.map(qnli_random_corrupt)\n",
    "corrupted_validation_dataset = eval_df.map(qnli_random_corrupt)\n",
    "corrupted_test_dataset = test_df.map(qnli_random_corrupt)\n",
    "\n",
    "corrupted_datasets = DatasetDict({\"train\":corrupted_train_dataset, \n",
    "                                  \"validation\":corrupted_validation_dataset,\n",
    "                                  \"test\":corrupted_test_dataset})\n",
    "corrupted_datasets.save_to_disk(\"../data-files/qnli-corrupted\")"
   ]
  }
 ],
 "metadata": {
  "kernelspec": {
   "display_name": "Python 3",
   "language": "python",
   "name": "python3"
  },
  "language_info": {
   "codemirror_mode": {
    "name": "ipython",
    "version": 3
   },
   "file_extension": ".py",
   "mimetype": "text/x-python",
   "name": "python",
   "nbconvert_exporter": "python",
   "pygments_lexer": "ipython3",
   "version": "3.7.6"
  }
 },
 "nbformat": 4,
 "nbformat_minor": 4
}
