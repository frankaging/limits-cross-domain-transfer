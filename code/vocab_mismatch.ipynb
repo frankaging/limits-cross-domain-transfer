{
 "cells": [
  {
   "cell_type": "markdown",
   "metadata": {},
   "source": [
    "#### these scripts will mismatch original BERT vocab file"
   ]
  },
  {
   "cell_type": "code",
   "execution_count": 1,
   "metadata": {},
   "outputs": [],
   "source": [
    "from vocab_mismatch_utils import *\n",
    "from data_formatter_utils import *\n",
    "from datasets import DatasetDict\n",
    "from datasets import Dataset\n",
    "import transformers\n",
    "import pandas as pd"
   ]
  },
  {
   "cell_type": "code",
   "execution_count": 2,
   "metadata": {},
   "outputs": [],
   "source": [
    "original_vocab = load_bert_vocab(\"../data-files/bert_vocab.txt\")\n",
    "corrupted_vocab = load_bert_vocab(\"../data-files/bert_vocab_mismatch.txt\")\n",
    "\n",
    "original_tokens = []\n",
    "corrupted_tokens = []\n",
    "for k, v in original_vocab.items():\n",
    "    original_tokens.append(k)\n",
    "for k, v in corrupted_vocab.items():\n",
    "    corrupted_tokens.append(k)\n",
    "\n",
    "token_mapping = dict(zip(original_tokens, corrupted_tokens))"
   ]
  },
  {
   "cell_type": "code",
   "execution_count": 3,
   "metadata": {},
   "outputs": [],
   "source": [
    "original_tokenizer = transformers.BertTokenizer(\n",
    "    vocab_file=\"../data-files/bert_vocab.txt\")\n",
    "\n",
    "def random_corrupt(example):\n",
    "    original_sentence = example['text']\n",
    "    original_tokens = original_tokenizer.tokenize(original_sentence)\n",
    "    corrupted_tokens = []\n",
    "    for ori_t in original_tokens:\n",
    "        if ori_t in token_mapping.keys():\n",
    "            cor_t = token_mapping[ori_t]\n",
    "        else:\n",
    "            cor_t = ori_t\n",
    "        corrupted_tokens.append(cor_t)\n",
    "    example['text'] = original_tokenizer.convert_tokens_to_string(corrupted_tokens)\n",
    "    return example"
   ]
  },
  {
   "cell_type": "markdown",
   "metadata": {},
   "source": [
    "#### Corrupted WikiText-103"
   ]
  },
  {
   "cell_type": "code",
   "execution_count": null,
   "metadata": {},
   "outputs": [],
   "source": [
    "datasets = DatasetDict.load_from_disk(\"../data-files/wikitext-15M\")\n",
    "train_dataset = datasets[\"train\"]\n",
    "validation_dataset = datasets[\"validation\"]\n",
    "test_dataset = datasets[\"test\"]"
   ]
  },
  {
   "cell_type": "markdown",
   "metadata": {},
   "source": [
    "the following lines will corrupt the actual dataset, which takes long"
   ]
  },
  {
   "cell_type": "code",
   "execution_count": null,
   "metadata": {},
   "outputs": [],
   "source": [
    "corrupted_train_dataset = train_dataset.map(random_corrupt)\n",
    "corrupted_validation_dataset = validation_dataset.map(random_corrupt)\n",
    "corrupted_test_dataset = test_dataset.map(random_corrupt)"
   ]
  },
  {
   "cell_type": "code",
   "execution_count": null,
   "metadata": {},
   "outputs": [],
   "source": [
    "# save the corrupted datasets for pretraining!\n",
    "datasets[\"train\"] = corrupted_train_dataset\n",
    "datasets[\"validation\"] = corrupted_validation_dataset\n",
    "datasets[\"test\"] = corrupted_test_dataset\n",
    "datasets.save_to_disk(\"../data-files/wikitext-15M-corrupted\")"
   ]
  },
  {
   "cell_type": "markdown",
   "metadata": {},
   "source": [
    "#### Corrupted SST3"
   ]
  },
  {
   "cell_type": "code",
   "execution_count": 4,
   "metadata": {},
   "outputs": [],
   "source": [
    "sst_train_ternary = process_sst(os.path.join(sst_dirname, \"train.txt\"),\n",
    "                                full_ternary_class_func)\n",
    "sst_dev_ternary = process_sst(os.path.join(sst_dirname, \"dev.txt\"),\n",
    "                              full_ternary_class_func,\n",
    "                              include_subtrees=False)\n",
    "sst_test_ternary = process_sst(os.path.join(sst_dirname, \"test.txt\"),\n",
    "                               full_ternary_class_func,\n",
    "                               include_subtrees=False)"
   ]
  },
  {
   "cell_type": "code",
   "execution_count": 26,
   "metadata": {},
   "outputs": [],
   "source": [
    "# these are the original processed sst-tenary data\n",
    "write_tsv(sst_train_ternary, output_filename=os.path.join(external_output_dirname, \"sst-tenary\", \"sst-tenary-train.tsv\"))\n",
    "write_tsv(sst_dev_ternary, output_filename=os.path.join(external_output_dirname, \"sst-tenary\", \"sst-tenary-dev.tsv\"))\n",
    "write_tsv(sst_test_ternary, output_filename=os.path.join(external_output_dirname, \"sst-tenary\", \"sst-tenary-test.tsv\"))"
   ]
  },
  {
   "cell_type": "code",
   "execution_count": 6,
   "metadata": {},
   "outputs": [
    {
     "data": {
      "application/vnd.jupyter.widget-view+json": {
       "model_id": "c5d74897e77648618e61b69b81bdcb50",
       "version_major": 2,
       "version_minor": 0
      },
      "text/plain": [
       "HBox(children=(FloatProgress(value=0.0, max=159274.0), HTML(value='')))"
      ]
     },
     "metadata": {},
     "output_type": "display_data"
    },
    {
     "name": "stdout",
     "output_type": "stream",
     "text": [
      "\n"
     ]
    },
    {
     "data": {
      "application/vnd.jupyter.widget-view+json": {
       "model_id": "6e96c2aec5a84a68bcbf7efd58e30b8a",
       "version_major": 2,
       "version_minor": 0
      },
      "text/plain": [
       "HBox(children=(FloatProgress(value=0.0, max=1100.0), HTML(value='')))"
      ]
     },
     "metadata": {},
     "output_type": "display_data"
    },
    {
     "name": "stdout",
     "output_type": "stream",
     "text": [
      "\n"
     ]
    },
    {
     "data": {
      "application/vnd.jupyter.widget-view+json": {
       "model_id": "7919a991d8cf4c5f9f01b7f9cc6c0a4d",
       "version_major": 2,
       "version_minor": 0
      },
      "text/plain": [
       "HBox(children=(FloatProgress(value=0.0, max=2210.0), HTML(value='')))"
      ]
     },
     "metadata": {},
     "output_type": "display_data"
    },
    {
     "name": "stdout",
     "output_type": "stream",
     "text": [
      "\n"
     ]
    }
   ],
   "source": [
    "# let us corrupt SST3 in the same way as before\n",
    "train_df = pd.read_csv(os.path.join(external_output_dirname, \"sst-tenary\", \"sst-tenary-train.tsv\"), delimiter=\"\\t\")\n",
    "eval_df = pd.read_csv(os.path.join(external_output_dirname, \"sst-tenary\", \"sst-tenary-dev.tsv\"), delimiter=\"\\t\")\n",
    "test_df = pd.read_csv(os.path.join(external_output_dirname, \"sst-tenary\", \"sst-tenary-test.tsv\"), delimiter=\"\\t\")\n",
    "\n",
    "train_df = Dataset.from_pandas(train_df)\n",
    "eval_df = Dataset.from_pandas(eval_df)\n",
    "test_df = Dataset.from_pandas(test_df)\n",
    "\n",
    "corrupted_train_dataset = train_df.map(random_corrupt)\n",
    "corrupted_validation_dataset = eval_df.map(random_corrupt)\n",
    "corrupted_test_dataset = test_df.map(random_corrupt)\n",
    "\n",
    "corrupted_datasets = DatasetDict({\"train\":corrupted_train_dataset, \n",
    "                                  \"validation\":corrupted_validation_dataset, \n",
    "                                  \"test\":corrupted_test_dataset})\n",
    "corrupted_datasets.save_to_disk(\"../data-files/sst-tenary-corrupted\")"
   ]
  },
  {
   "cell_type": "markdown",
   "metadata": {},
   "source": [
    "#### Corrupted DynaSentv1.1 Round 1"
   ]
  },
  {
   "cell_type": "markdown",
   "metadata": {},
   "source": [
    "#### Corrupted DynaSentv1.1 Round 2"
   ]
  }
 ],
 "metadata": {
  "kernelspec": {
   "display_name": "Python 3",
   "language": "python",
   "name": "python3"
  },
  "language_info": {
   "codemirror_mode": {
    "name": "ipython",
    "version": 3
   },
   "file_extension": ".py",
   "mimetype": "text/x-python",
   "name": "python",
   "nbconvert_exporter": "python",
   "pygments_lexer": "ipython3",
   "version": "3.7.6"
  }
 },
 "nbformat": 4,
 "nbformat_minor": 4
}
