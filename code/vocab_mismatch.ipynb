{
 "cells": [
  {
   "cell_type": "markdown",
   "metadata": {},
   "source": [
    "#### these scripts will mismatch original BERT vocab file"
   ]
  },
  {
   "cell_type": "code",
   "execution_count": 74,
   "metadata": {},
   "outputs": [],
   "source": [
    "from vocab_mismatch_utils import *"
   ]
  },
  {
   "cell_type": "code",
   "execution_count": 75,
   "metadata": {},
   "outputs": [],
   "source": [
    "mismatch_vocab = mismatch_vocab_random_by_categories(vocab)"
   ]
  },
  {
   "cell_type": "code",
   "execution_count": 73,
   "metadata": {},
   "outputs": [],
   "source": [
    "write_bert_vocab(mismatch_vocab, os.path.join(data_files_dirname, \"bert_vocab_mismatch.txt\"))"
   ]
  },
  {
   "cell_type": "markdown",
   "metadata": {},
   "source": [
    "#### tokenizer with mismatched vocab"
   ]
  },
  {
   "cell_type": "code",
   "execution_count": 77,
   "metadata": {},
   "outputs": [],
   "source": [
    "import transformers\n",
    "mismatch_tokenizer = transformers.BertTokenizer(\n",
    "    vocab_file=\"../data_files/bert_vocab_mismatch.txt\", \n",
    "    max_seq_length=128)\n",
    "original_tokenizer = transformers.BertTokenizer(\n",
    "    vocab_file=\"../data_files/bert_vocab.txt\", \n",
    "    max_seq_length=128)"
   ]
  },
  {
   "cell_type": "code",
   "execution_count": 88,
   "metadata": {},
   "outputs": [
    {
     "data": {
      "text/plain": [
       "['1876',\n",
       " 'ya',\n",
       " 'i',\n",
       " '##cology',\n",
       " 'mack',\n",
       " '%',\n",
       " 'i',\n",
       " 'ida',\n",
       " '+',\n",
       " 'eu',\n",
       " '+',\n",
       " 'i',\n",
       " '+',\n",
       " '##ı',\n",
       " ')']"
      ]
     },
     "execution_count": 88,
     "metadata": {},
     "output_type": "execute_result"
    }
   ],
   "source": [
    "mismatch_tokens = mismatch_tokenizer.tokenize(\"this is a stunning film, a one-of-a-kind.\")\n",
    "mismatch_ids = mismatch_tokenizer.convert_tokens_to_ids(mismatch_tokens)\n",
    "original_tokenizer.convert_ids_to_tokens(mismatch_ids)"
   ]
  },
  {
   "cell_type": "code",
   "execution_count": 89,
   "metadata": {},
   "outputs": [
    {
     "data": {
      "text/plain": [
       "['1876', 'ya', 'i', 'spy', 'mack', '%', 'fitness', 'closure', ')']"
      ]
     },
     "execution_count": 89,
     "metadata": {},
     "output_type": "execute_result"
    }
   ],
   "source": [
    "mismatch_tokens = mismatch_tokenizer.tokenize(\"this is a bad film, nothing special.\")\n",
    "mismatch_ids = mismatch_tokenizer.convert_tokens_to_ids(mismatch_tokens)\n",
    "original_tokenizer.convert_ids_to_tokens(mismatch_ids)"
   ]
  }
 ],
 "metadata": {
  "kernelspec": {
   "display_name": "Python 3",
   "language": "python",
   "name": "python3"
  },
  "language_info": {
   "codemirror_mode": {
    "name": "ipython",
    "version": 3
   },
   "file_extension": ".py",
   "mimetype": "text/x-python",
   "name": "python",
   "nbconvert_exporter": "python",
   "pygments_lexer": "ipython3",
   "version": "3.7.6"
  }
 },
 "nbformat": 4,
 "nbformat_minor": 4
}
