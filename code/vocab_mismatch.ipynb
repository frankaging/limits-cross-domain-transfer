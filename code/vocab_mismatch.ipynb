{
 "cells": [
  {
   "cell_type": "markdown",
   "metadata": {},
   "source": [
    "#### these scripts will mismatch original BERT vocab file"
   ]
  },
  {
   "cell_type": "code",
   "execution_count": null,
   "metadata": {},
   "outputs": [],
   "source": [
    "from vocab_mismatch_utils import *\n",
    "from data_formatter_utils import *\n",
    "from datasets import DatasetDict\n",
    "from datasets import Dataset\n",
    "from datasets import load_dataset\n",
    "import transformers\n",
    "import pandas as pd\n",
    "import operator\n",
    "from collections import OrderedDict\n",
    "from tqdm import tqdm, trange\n",
    "\n",
    "import collections\n",
    "import os\n",
    "import unicodedata\n",
    "from typing import List, Optional, Tuple\n",
    "\n",
    "from transformers.tokenization_utils import PreTrainedTokenizer, _is_control, _is_punctuation, _is_whitespace\n",
    "from transformers.utils import logging\n",
    "import torch\n",
    "logger = logging.get_logger(__name__)\n",
    "import numpy as np\n",
    "import copy\n",
    "from nltk.stem import WordNetLemmatizer\n",
    "lemmatizer = WordNetLemmatizer() \n",
    "from word_forms.word_forms import get_word_forms\n",
    "\n",
    "seed = 42\n",
    "# set seeds again at start\n",
    "torch.manual_seed(seed)\n",
    "np.random.seed(seed)\n",
    "random.seed(seed)\n",
    "\n",
    "from functools import partial\n",
    "\n",
    "import matplotlib.pyplot as plt\n",
    "plt.rcParams[\"font.family\"] = \"Times New Roman\"\n",
    "font = {'family' : 'Times New Roman',\n",
    "        'size'   : 30}\n",
    "plt.rc('font', **font)"
   ]
  },
  {
   "cell_type": "code",
   "execution_count": 252,
   "metadata": {},
   "outputs": [],
   "source": [
    "# this tokenizer helps you to get piece length for each token\n",
    "modified_tokenizer = ModifiedBertTokenizer(\n",
    "    vocab_file=\"../data-files/bert_vocab.txt\")\n",
    "modified_basic_tokenizer = ModifiedBasicTokenizer()\n",
    "\n",
    "# translator to try it out!\n",
    "def corrupt_translator(in_string, tokenizer, vocab_match):\n",
    "    tokens = tokenizer.tokenize(in_string)\n",
    "    translate_tokens = [vocab_match[t] for t in tokens]\n",
    "    out_string = \" \".join(translate_tokens).replace(\" ##\", \"\").strip()\n",
    "    return out_string\n",
    "\n",
    "def token_stats_mapping(task, example):\n",
    "    if task == \"sst3\" or task == \"wiki-text\":\n",
    "        original_sentence = example['text']\n",
    "        if len(original_sentence.strip()) != 0:\n",
    "            tokens, token_dict = modified_tokenizer.tokenize(original_sentence)\n",
    "            for token, pieces in token_dict.items():\n",
    "                if token in token_frequency_map.keys():\n",
    "                    token_frequency_map[token] = token_frequency_map[token] + 1\n",
    "                else:\n",
    "                    token_frequency_map[token] = 1\n",
    "                _len = len(pieces)\n",
    "                if _len in token_by_length.keys():\n",
    "                    if token not in token_by_length[_len]:\n",
    "                        token_by_length[_len].append(token)\n",
    "                else:\n",
    "                    token_by_length[_len] = [token]\n",
    "    elif task == \"cola\":\n",
    "        original_sentence = example['sentence']\n",
    "        tokens, token_dict = modified_tokenizer.tokenize(original_sentence)\n",
    "        for token, pieces in token_dict.items():\n",
    "            if token in token_frequency_map.keys():\n",
    "                token_frequency_map[token] = token_frequency_map[token] + 1\n",
    "            else:\n",
    "                token_frequency_map[token] = 1\n",
    "            _len = len(pieces)\n",
    "            if _len in token_by_length.keys():\n",
    "                if token not in token_by_length[_len]:\n",
    "                    token_by_length[_len].append(token)\n",
    "            else:\n",
    "                token_by_length[_len] = [token]\n",
    "    elif task == \"mrpc\":\n",
    "        original_sentence = example['sentence1']\n",
    "        tokens, token_dict = modified_tokenizer.tokenize(original_sentence)\n",
    "        for token, pieces in token_dict.items():\n",
    "            if token in token_frequency_map.keys():\n",
    "                token_frequency_map[token] = token_frequency_map[token] + 1\n",
    "            else:\n",
    "                token_frequency_map[token] = 1\n",
    "            _len = len(pieces)\n",
    "            if _len in token_by_length.keys():\n",
    "                if token not in token_by_length[_len]:\n",
    "                    token_by_length[_len].append(token)\n",
    "            else:\n",
    "                token_by_length[_len] = [token]\n",
    "                \n",
    "        original_sentence = example['sentence2']\n",
    "        tokens, token_dict = modified_tokenizer.tokenize(original_sentence)\n",
    "        for token, pieces in token_dict.items():\n",
    "            if token in token_frequency_map.keys():\n",
    "                token_frequency_map[token] = token_frequency_map[token] + 1\n",
    "            else:\n",
    "                token_frequency_map[token] = 1\n",
    "            _len = len(pieces)\n",
    "            if _len in token_by_length.keys():\n",
    "                if token not in token_by_length[_len]:\n",
    "                    token_by_length[_len].append(token)\n",
    "            else:\n",
    "                token_by_length[_len] = [token]\n",
    "    return example\n",
    "\n",
    "def token_lemma_mapping(word_dict):\n",
    "    token_lemma_map = {}\n",
    "    for k, v in word_dict.items():\n",
    "        external_forms = get_word_forms(k)\n",
    "        all_lemmas = set([])\n",
    "        for e_k, e_v in external_forms.items():\n",
    "            all_lemmas = all_lemmas.union(e_v)\n",
    "        token_lemma_map[k] = all_lemmas\n",
    "    return token_lemma_map\n",
    "\n",
    "def generate_vocab_match_frequency_iv(token_by_length, token_frequency_map, token_lemma_map):\n",
    "    vocab_match = {}\n",
    "    for _, tokens in token_by_length.items():\n",
    "        tokens_copy = copy.deepcopy(tokens)\n",
    "        \n",
    "        # token_frequency_map, token_lemma_map)\n",
    "        \n",
    "        token_freq_tu = []\n",
    "        for t in tokens:\n",
    "            token_freq_tu.append((t, token_frequency_map[t]))\n",
    "        token_freq_tu = sorted(token_freq_tu, key=operator.itemgetter(1), reverse=True)\n",
    "        \n",
    "        matched_to = set([])\n",
    "        for i in trange(0, len(token_freq_tu)):\n",
    "            found = False\n",
    "            for j in range(0, len(token_freq_tu)):\n",
    "                word_i = token_freq_tu[i][0]\n",
    "                word_j = token_freq_tu[j][0]\n",
    "                if i != j and word_j not in matched_to and \\\n",
    "                    len(token_lemma_map[word_i].intersection(token_lemma_map[word_j])) == 0 and \\\n",
    "                    levenshteinDistance(word_i, word_j) > 0.3:\n",
    "                    matched_to.add(word_j)\n",
    "                    vocab_match[word_i] = word_j\n",
    "                    found = True\n",
    "                    break\n",
    "            if not found:\n",
    "                vocab_match[word_i] = word_i\n",
    "            \n",
    "    return vocab_match\n",
    "\n",
    "def generate_vocab_match_low_band_oov(task_token_frequency_map, wiki_token_frequency_map):\n",
    "    \"\"\"\n",
    "    we are not even considering length here, may need to consider as a factor\n",
    "    \"\"\"\n",
    "    tokens = list(task_token_frequency_map.keys())\n",
    "    tokens_copy = copy.deepcopy(tokens)\n",
    "    random.shuffle(tokens_copy)\n",
    "    low_band_freq_vocab = []\n",
    "    for k, v in wiki_token_frequency_map.items():\n",
    "        if v <= 2 and k not in task_token_frequency_map.keys():\n",
    "            low_band_freq_vocab.append(k)\n",
    "    random.shuffle(low_band_freq_vocab)\n",
    "    vocab_match = {}\n",
    "    for i in range(len(tokens)):\n",
    "        vocab_match[tokens[i]] = low_band_freq_vocab[i]\n",
    "    return vocab_match\n",
    "\n",
    "def plot_dist(vocab, map1, map2):\n",
    "    freq_diff = []\n",
    "    for k, v in vocab.items():\n",
    "        diff = abs(map1[k] - map2[v])\n",
    "        # print(diff)\n",
    "        freq_diff.append(diff)\n",
    "    fig = plt.figure(figsize=(8,6))\n",
    "    ax = fig.add_subplot(111)\n",
    "    g = ax.hist(freq_diff, bins=100, facecolor='r')\n",
    "    plt.grid(True)\n",
    "    plt.grid(color='black', linestyle='-.')\n",
    "    import matplotlib.ticker as mtick\n",
    "    ax.yaxis.set_major_formatter(mtick.FormatStrFormatter('%.2e'))\n",
    "    ax.set_yscale('log')\n",
    "    plt.tight_layout()\n",
    "    plt.show()\n",
    "    \n",
    "def random_corrupt(tokenizer, vocab_match, example):\n",
    "    original_sentence = example['text']\n",
    "    corrupted_sentence = corrupt_translator(original_sentence, tokenizer, vocab_match)\n",
    "    example['text'] = corrupted_sentence\n",
    "    return example\n",
    "\n",
    "def generate_vocab_match_high_band_oov(task_token_frequency_map, wiki_token_frequency_map):\n",
    "    \"\"\"\n",
    "    we are not even considering length here, may need to consider as a factor\n",
    "    \"\"\"\n",
    "    high_band_freq_vocab = []\n",
    "    count = len(task_token_frequency_map)\n",
    "    for k, v in wiki_token_frequency_map.items():\n",
    "        if count == 0:\n",
    "            break\n",
    "        if k in task_token_frequency_map.keys():\n",
    "            continue\n",
    "        high_band_freq_vocab.append(k)\n",
    "        count -= 1\n",
    "    high_band_freq_vocab = high_band_freq_vocab[::-1]\n",
    "    vocab_match = {}\n",
    "    tokens = list(task_token_frequency_map.keys())\n",
    "    for i in range(len(tokens)):\n",
    "        vocab_match[tokens[i]] = high_band_freq_vocab[i]\n",
    "    return vocab_match"
   ]
  },
  {
   "cell_type": "markdown",
   "metadata": {},
   "source": [
    "### Get mismatched vocab!"
   ]
  },
  {
   "cell_type": "markdown",
   "metadata": {},
   "source": [
    "**Wiki-Text Frequency for OOV**: Ger frequency for out-of-vocab words in wiki-text"
   ]
  },
  {
   "cell_type": "code",
   "execution_count": null,
   "metadata": {},
   "outputs": [],
   "source": [
    "wiki_datasets = DatasetDict.load_from_disk(os.path.join(external_output_dirname, \"wikitext-15M\"))\n",
    "wiki_train_df = wiki_datasets['train']\n",
    "wiki_eval_df = wiki_datasets['validation']\n",
    "wiki_test_df = wiki_datasets['test']\n",
    "\n",
    "token_frequency_map = {} # overwrite this everytime for a new dataset\n",
    "wiki_train_df = wiki_train_df.map(partial(token_frequency_mapping, \"wiki-text\"))\n",
    "wiki_eval_df = wiki_eval_df.map(partial(token_frequency_mapping, \"wiki-text\"))\n",
    "wiki_test_df = wiki_test_df.map(partial(token_frequency_mapping, \"wiki-text\"))\n",
    "token_frequency_map = sorted(token_frequency_map.items(), key=operator.itemgetter(1), reverse=True) # copy\n",
    "wiki_token_frequency_map = OrderedDict(token_frequency_map)"
   ]
  },
  {
   "cell_type": "code",
   "execution_count": 142,
   "metadata": {},
   "outputs": [
    {
     "data": {
      "application/vnd.jupyter.widget-view+json": {
       "model_id": "2e60cb8506474924816ab1c807cca91b",
       "version_major": 2,
       "version_minor": 0
      },
      "text/plain": [
       "HBox(children=(FloatProgress(value=0.0, max=159274.0), HTML(value='')))"
      ]
     },
     "metadata": {},
     "output_type": "display_data"
    },
    {
     "name": "stdout",
     "output_type": "stream",
     "text": [
      "\n"
     ]
    },
    {
     "data": {
      "application/vnd.jupyter.widget-view+json": {
       "model_id": "aefb45fc13f448a8a8aaae41a7359abd",
       "version_major": 2,
       "version_minor": 0
      },
      "text/plain": [
       "HBox(children=(FloatProgress(value=0.0, max=1100.0), HTML(value='')))"
      ]
     },
     "metadata": {},
     "output_type": "display_data"
    },
    {
     "name": "stdout",
     "output_type": "stream",
     "text": [
      "\n"
     ]
    },
    {
     "data": {
      "application/vnd.jupyter.widget-view+json": {
       "model_id": "61b2764f97cc47bd8bce7d550b9d56c6",
       "version_major": 2,
       "version_minor": 0
      },
      "text/plain": [
       "HBox(children=(FloatProgress(value=0.0, max=2210.0), HTML(value='')))"
      ]
     },
     "metadata": {},
     "output_type": "display_data"
    },
    {
     "name": "stdout",
     "output_type": "stream",
     "text": [
      "\n"
     ]
    }
   ],
   "source": [
    "# task setups\n",
    "task_name = \"sst3\"\n",
    "FILENAME_CONFIG = {\n",
    "    \"sst3\" : \"sst-tenary\"\n",
    "}\n",
    "\n",
    "# let us corrupt SST3 in the same way as before\n",
    "train_df = pd.read_csv(os.path.join(external_output_dirname, FILENAME_CONFIG[task_name], \n",
    "                                    f\"{FILENAME_CONFIG[task_name]}-train.tsv\"), \n",
    "                       delimiter=\"\\t\")\n",
    "eval_df = pd.read_csv(os.path.join(external_output_dirname, FILENAME_CONFIG[task_name], \n",
    "                                   f\"{FILENAME_CONFIG[task_name]}-dev.tsv\"), \n",
    "                      delimiter=\"\\t\")\n",
    "test_df = pd.read_csv(os.path.join(external_output_dirname, FILENAME_CONFIG[task_name], \n",
    "                                   f\"{FILENAME_CONFIG[task_name]}-test.tsv\"), \n",
    "                      delimiter=\"\\t\")\n",
    "\n",
    "train_df = Dataset.from_pandas(train_df)\n",
    "eval_df = Dataset.from_pandas(eval_df)\n",
    "test_df = Dataset.from_pandas(test_df)\n",
    "\n",
    "token_by_length = {} # overwrite this everytime for a new dataset\n",
    "token_frequency_map = {} # overwrite this everytime for a new dataset\n",
    "train_df = train_df.map(partial(token_stats_mapping, task_name))\n",
    "eval_df = eval_df.map(partial(token_stats_mapping, task_name))\n",
    "test_df = test_df.map(partial(token_stats_mapping, task_name))\n",
    "task_token_by_length = OrderedDict(token_by_length)\n",
    "task_token_frequency_map = sorted(token_frequency_map.items(), key=operator.itemgetter(1), reverse=True)\n",
    "task_token_frequency_map = OrderedDict(task_token_frequency_map)\n",
    "task_token_lemma_map = token_lemma_mapping(vocab_match_by_piece_length)"
   ]
  },
  {
   "cell_type": "markdown",
   "metadata": {},
   "source": [
    "#### S1: Frequency-matched in-vocab swap"
   ]
  },
  {
   "cell_type": "code",
   "execution_count": 143,
   "metadata": {},
   "outputs": [
    {
     "name": "stderr",
     "output_type": "stream",
     "text": [
      "100%|██████████| 10136/10136 [00:07<00:00, 1267.61it/s]\n",
      "100%|██████████| 2389/2389 [00:00<00:00, 6072.44it/s] \n",
      "100%|██████████| 4430/4430 [00:01<00:00, 3403.14it/s] \n",
      "100%|██████████| 743/743 [00:00<00:00, 12135.01it/s]\n",
      "100%|██████████| 111/111 [00:00<00:00, 16109.61it/s]\n",
      "100%|██████████| 16/16 [00:00<00:00, 11724.12it/s]\n",
      "100%|██████████| 1/1 [00:00<00:00, 5652.70it/s]\n"
     ]
    }
   ],
   "source": [
    "vocab_match_frequency_iv = \\\n",
    "    generate_vocab_match_frequency_iv(task_token_by_length, \n",
    "                                      task_token_frequency_map, \n",
    "                                      task_token_lemma_map)"
   ]
  },
  {
   "cell_type": "code",
   "execution_count": 152,
   "metadata": {},
   "outputs": [
    {
     "data": {
      "image/png": "[encoded data removed]",
      "text/plain": [
       "<Figure size 576x432 with 1 Axes>"
      ]
     },
     "metadata": {
      "needs_background": "light"
     },
     "output_type": "display_data"
    }
   ],
   "source": [
    "plot_dist(vocab_match_frequency_iv, task_token_frequency_map, task_token_frequency_map)"
   ]
  },
  {
   "cell_type": "markdown",
   "metadata": {},
   "source": [
    "#### S2: Frequency unmatched in-vocab swap"
   ]
  },
  {
   "cell_type": "code",
   "execution_count": 246,
   "metadata": {},
   "outputs": [],
   "source": [
    "def generate_vocab_match_no_frequency_iv(token_by_length, token_frequency_map):\n",
    "    tokens = list(task_token_frequency_map.keys())\n",
    "    tokens_copy = copy.deepcopy(tokens)\n",
    "    tokens_copy = tokens_copy[::-1]\n",
    "    vocab_match = {}\n",
    "    for i in range(len(tokens)):\n",
    "        vocab_match[tokens[i]] = tokens_copy[i]\n",
    "    return vocab_match\n",
    "\n",
    "vocab_match_no_frequency_iv = \\\n",
    "    generate_vocab_match_no_frequency_iv(task_token_by_length, \n",
    "                                       task_token_frequency_map)"
   ]
  },
  {
   "cell_type": "code",
   "execution_count": 253,
   "metadata": {},
   "outputs": [
    {
     "data": {
      "image/png": "[encoded data removed]",
      "text/plain": [
       "<Figure size 576x432 with 1 Axes>"
      ]
     },
     "metadata": {
      "needs_background": "light"
     },
     "output_type": "display_data"
    }
   ],
   "source": [
    "plot_dist(vocab_match_no_frequency_iv, task_token_frequency_map, task_token_frequency_map)"
   ]
  },
  {
   "cell_type": "code",
   "execution_count": 251,
   "metadata": {},
   "outputs": [
    {
     "data": {
      "application/vnd.jupyter.widget-view+json": {
       "model_id": "950d7da3bcde4c5698d2fd2b685cfa6e",
       "version_major": 2,
       "version_minor": 0
      },
      "text/plain": [
       "HBox(children=(FloatProgress(value=0.0, max=159274.0), HTML(value='')))"
      ]
     },
     "metadata": {},
     "output_type": "display_data"
    },
    {
     "name": "stdout",
     "output_type": "stream",
     "text": [
      "\n"
     ]
    },
    {
     "data": {
      "application/vnd.jupyter.widget-view+json": {
       "model_id": "375f3c54cf604906a7f955e9e1ee7be5",
       "version_major": 2,
       "version_minor": 0
      },
      "text/plain": [
       "HBox(children=(FloatProgress(value=0.0, max=1100.0), HTML(value='')))"
      ]
     },
     "metadata": {},
     "output_type": "display_data"
    },
    {
     "name": "stdout",
     "output_type": "stream",
     "text": [
      "\n"
     ]
    },
    {
     "data": {
      "application/vnd.jupyter.widget-view+json": {
       "model_id": "e936ef5f6c5445eea431f66bee2218e8",
       "version_major": 2,
       "version_minor": 0
      },
      "text/plain": [
       "HBox(children=(FloatProgress(value=0.0, max=2210.0), HTML(value='')))"
      ]
     },
     "metadata": {},
     "output_type": "display_data"
    },
    {
     "name": "stdout",
     "output_type": "stream",
     "text": [
      "\n"
     ]
    }
   ],
   "source": [
    "corrupted_train_dataset = train_df.map(partial(random_corrupt, \n",
    "                                               modified_basic_tokenizer, \n",
    "                                               vocab_match_no_frequency_iv))\n",
    "corrupted_validation_dataset = eval_df.map(partial(random_corrupt, \n",
    "                                                   modified_basic_tokenizer, \n",
    "                                                   vocab_match_no_frequency_iv))\n",
    "corrupted_test_dataset = test_df.map(partial(random_corrupt, \n",
    "                                             modified_basic_tokenizer, \n",
    "                                             vocab_match_no_frequency_iv))\n",
    "\n",
    "corrupted_datasets = DatasetDict({\"train\":corrupted_train_dataset, \n",
    "                                  \"validation\":corrupted_validation_dataset, \n",
    "                                  \"test\":corrupted_test_dataset})\n",
    "corrupted_datasets.save_to_disk(f\"../data-files/{FILENAME_CONFIG[task_name]}-corrupted-S2\")"
   ]
  },
  {
   "cell_type": "markdown",
   "metadata": {},
   "source": [
    "#### S3: Low-band Frequency-matched out-of-vocab swap\n",
    "all token maps to very lower frequency token in English texts"
   ]
  },
  {
   "cell_type": "code",
   "execution_count": 236,
   "metadata": {},
   "outputs": [],
   "source": [
    "vocab_match_low_band_oov = generate_vocab_match_low_band_oov(task_token_frequency_map, wiki_token_frequency_map)"
   ]
  },
  {
   "cell_type": "code",
   "execution_count": 237,
   "metadata": {},
   "outputs": [
    {
     "data": {
      "image/png": "[encoded data removed]",
      "text/plain": [
       "<Figure size 576x432 with 1 Axes>"
      ]
     },
     "metadata": {
      "needs_background": "light"
     },
     "output_type": "display_data"
    }
   ],
   "source": [
    "plot_dist(vocab_match_low_band_oov, task_token_frequency_map, wiki_token_frequency_map)"
   ]
  },
  {
   "cell_type": "code",
   "execution_count": 238,
   "metadata": {},
   "outputs": [
    {
     "data": {
      "application/vnd.jupyter.widget-view+json": {
       "model_id": "cc1e78992928429a8b22dab4b7df151b",
       "version_major": 2,
       "version_minor": 0
      },
      "text/plain": [
       "HBox(children=(FloatProgress(value=0.0, max=159274.0), HTML(value='')))"
      ]
     },
     "metadata": {},
     "output_type": "display_data"
    },
    {
     "name": "stdout",
     "output_type": "stream",
     "text": [
      "\n"
     ]
    },
    {
     "data": {
      "application/vnd.jupyter.widget-view+json": {
       "model_id": "4f8012feeecb4bddbc4b66a5ed03a41d",
       "version_major": 2,
       "version_minor": 0
      },
      "text/plain": [
       "HBox(children=(FloatProgress(value=0.0, max=1100.0), HTML(value='')))"
      ]
     },
     "metadata": {},
     "output_type": "display_data"
    },
    {
     "name": "stdout",
     "output_type": "stream",
     "text": [
      "\n"
     ]
    },
    {
     "data": {
      "application/vnd.jupyter.widget-view+json": {
       "model_id": "2ab2b05366f0485c9df63748ff2a5a11",
       "version_major": 2,
       "version_minor": 0
      },
      "text/plain": [
       "HBox(children=(FloatProgress(value=0.0, max=2210.0), HTML(value='')))"
      ]
     },
     "metadata": {},
     "output_type": "display_data"
    },
    {
     "name": "stdout",
     "output_type": "stream",
     "text": [
      "\n"
     ]
    }
   ],
   "source": [
    "corrupted_train_dataset = train_df.map(partial(random_corrupt, \n",
    "                                               modified_basic_tokenizer, \n",
    "                                               vocab_match_low_band_oov))\n",
    "corrupted_validation_dataset = eval_df.map(partial(random_corrupt, \n",
    "                                                   modified_basic_tokenizer, \n",
    "                                                   vocab_match_low_band_oov))\n",
    "corrupted_test_dataset = test_df.map(partial(random_corrupt, \n",
    "                                             modified_basic_tokenizer, \n",
    "                                             vocab_match_low_band_oov))\n",
    "\n",
    "corrupted_datasets = DatasetDict({\"train\":corrupted_train_dataset, \n",
    "                                  \"validation\":corrupted_validation_dataset, \n",
    "                                  \"test\":corrupted_test_dataset})\n",
    "corrupted_datasets.save_to_disk(f\"../data-files/{FILENAME_CONFIG[task_name]}-corrupted-S3\")"
   ]
  },
  {
   "cell_type": "markdown",
   "metadata": {},
   "source": [
    "#### S4: Micro-frequency mismatch out-of-vocab swap\n",
    "all token maps to very lower frequency token in English text"
   ]
  },
  {
   "cell_type": "code",
   "execution_count": 254,
   "metadata": {},
   "outputs": [],
   "source": [
    "vocab_match_high_band_oov = \\\n",
    "    generate_vocab_match_high_band_oov(task_token_frequency_map, \n",
    "                                       wiki_token_frequency_map)"
   ]
  },
  {
   "cell_type": "code",
   "execution_count": 255,
   "metadata": {},
   "outputs": [
    {
     "data": {
      "application/vnd.jupyter.widget-view+json": {
       "model_id": "a58549fbd8be47af9c376b51d4fc585b",
       "version_major": 2,
       "version_minor": 0
      },
      "text/plain": [
       "HBox(children=(FloatProgress(value=0.0, max=159274.0), HTML(value='')))"
      ]
     },
     "metadata": {},
     "output_type": "display_data"
    },
    {
     "name": "stdout",
     "output_type": "stream",
     "text": [
      "\n"
     ]
    },
    {
     "data": {
      "application/vnd.jupyter.widget-view+json": {
       "model_id": "c76da92ccec14d88a72e55ec92fde7d9",
       "version_major": 2,
       "version_minor": 0
      },
      "text/plain": [
       "HBox(children=(FloatProgress(value=0.0, max=1100.0), HTML(value='')))"
      ]
     },
     "metadata": {},
     "output_type": "display_data"
    },
    {
     "name": "stdout",
     "output_type": "stream",
     "text": [
      "\n"
     ]
    },
    {
     "data": {
      "application/vnd.jupyter.widget-view+json": {
       "model_id": "26c508d7a39e4e5a8c3ae3c64b923a65",
       "version_major": 2,
       "version_minor": 0
      },
      "text/plain": [
       "HBox(children=(FloatProgress(value=0.0, max=2210.0), HTML(value='')))"
      ]
     },
     "metadata": {},
     "output_type": "display_data"
    },
    {
     "name": "stdout",
     "output_type": "stream",
     "text": [
      "\n"
     ]
    }
   ],
   "source": [
    "corrupted_train_dataset = train_df.map(partial(random_corrupt, \n",
    "                                               modified_basic_tokenizer, \n",
    "                                               vocab_match_high_band_oov))\n",
    "corrupted_validation_dataset = eval_df.map(partial(random_corrupt, \n",
    "                                                   modified_basic_tokenizer, \n",
    "                                                   vocab_match_high_band_oov))\n",
    "corrupted_test_dataset = test_df.map(partial(random_corrupt, \n",
    "                                             modified_basic_tokenizer, \n",
    "                                             vocab_match_high_band_oov))\n",
    "\n",
    "corrupted_datasets = DatasetDict({\"train\":corrupted_train_dataset, \n",
    "                                  \"validation\":corrupted_validation_dataset, \n",
    "                                  \"test\":corrupted_test_dataset})\n",
    "corrupted_datasets.save_to_disk(f\"../data-files/{FILENAME_CONFIG[task_name]}-corrupted-S4\")"
   ]
  },
  {
   "cell_type": "markdown",
   "metadata": {},
   "source": [
    "#### S5: High-band frequency vocab swap\n",
    "TODO: currently, don't have a good way of doing this."
   ]
  },
  {
   "cell_type": "markdown",
   "metadata": {},
   "source": [
    "#### S6: Low-band frequency vocab swap with In-sentence\n",
    "This is controlled by a flag."
   ]
  },
  {
   "cell_type": "markdown",
   "metadata": {},
   "source": [
    "#### S7: Dangerous Zone, let me swap everything randomly\n",
    "random everything!"
   ]
  },
  {
   "cell_type": "code",
   "execution_count": 209,
   "metadata": {},
   "outputs": [
    {
     "data": {
      "application/vnd.jupyter.widget-view+json": {
       "model_id": "fc9d0f7728304b67b4d425a9c66beec1",
       "version_major": 2,
       "version_minor": 0
      },
      "text/plain": [
       "HBox(children=(FloatProgress(value=0.0, max=159274.0), HTML(value='')))"
      ]
     },
     "metadata": {},
     "output_type": "display_data"
    },
    {
     "name": "stdout",
     "output_type": "stream",
     "text": [
      "\n"
     ]
    },
    {
     "data": {
      "application/vnd.jupyter.widget-view+json": {
       "model_id": "38dbb32f7d0a47d2b77f214a147cbbcd",
       "version_major": 2,
       "version_minor": 0
      },
      "text/plain": [
       "HBox(children=(FloatProgress(value=0.0, max=1100.0), HTML(value='')))"
      ]
     },
     "metadata": {},
     "output_type": "display_data"
    },
    {
     "name": "stdout",
     "output_type": "stream",
     "text": [
      "\n"
     ]
    },
    {
     "data": {
      "application/vnd.jupyter.widget-view+json": {
       "model_id": "0f69ce4349a444ecbfc82d8ae03a9a17",
       "version_major": 2,
       "version_minor": 0
      },
      "text/plain": [
       "HBox(children=(FloatProgress(value=0.0, max=2210.0), HTML(value='')))"
      ]
     },
     "metadata": {},
     "output_type": "display_data"
    },
    {
     "name": "stdout",
     "output_type": "stream",
     "text": [
      "\n"
     ]
    }
   ],
   "source": [
    "def choas_corrupt(tokens_pool, tokenizer, example):\n",
    "    original_sentence = example['text']\n",
    "    tokens = tokenizer.tokenize(original_sentence)\n",
    "    corrupted_sentence = random.choices(tokens_pool, k=len(tokens))\n",
    "    out_string = \" \".join(corrupted_sentence).replace(\" ##\", \"\").strip()\n",
    "    example['text'] = out_string\n",
    "    return example\n",
    "    \n",
    "tokens_pool = list(wiki_token_frequency_map.keys())\n",
    "random.shuffle(tokens_pool)\n",
    "tokens_pool = tokens_pool[:len(task_token_frequency_map)]\n",
    "corrupted_train_dataset = train_df.map(partial(choas_corrupt, \n",
    "                                               tokens_pool, \n",
    "                                               modified_basic_tokenizer))\n",
    "corrupted_validation_dataset = eval_df.map(partial(choas_corrupt, \n",
    "                                                   tokens_pool,\n",
    "                                                   modified_basic_tokenizer))\n",
    "corrupted_test_dataset = test_df.map(partial(choas_corrupt, \n",
    "                                             tokens_pool, \n",
    "                                             modified_basic_tokenizer))\n",
    "\n",
    "corrupted_datasets = DatasetDict({\"train\":corrupted_train_dataset, \n",
    "                                  \"validation\":corrupted_validation_dataset, \n",
    "                                  \"test\":corrupted_test_dataset})\n",
    "corrupted_datasets.save_to_disk(f\"../data-files/{FILENAME_CONFIG[task_name]}-corrupted-S7\")"
   ]
  },
  {
   "cell_type": "markdown",
   "metadata": {},
   "source": [
    "### Now, let us corrupt all datasets!"
   ]
  },
  {
   "cell_type": "markdown",
   "metadata": {},
   "source": [
    "#### Corrupted SST-3 "
   ]
  },
  {
   "cell_type": "code",
   "execution_count": null,
   "metadata": {},
   "outputs": [],
   "source": [
    "def random_corrupt(example):\n",
    "    original_sentence = example['text']\n",
    "    corrupted_sentence = corrupt_translator(original_sentence, modified_basic_tokenizer, vocab_match_by_piece_length)\n",
    "    example['text'] = corrupted_sentence\n",
    "    return example\n",
    "\n",
    "corrupted_train_dataset = train_df.map(random_corrupt)\n",
    "corrupted_validation_dataset = eval_df.map(random_corrupt)\n",
    "corrupted_test_dataset = test_df.map(random_corrupt)\n",
    "\n",
    "corrupted_datasets = DatasetDict({\"train\":corrupted_train_dataset, \n",
    "                                  \"validation\":corrupted_validation_dataset, \n",
    "                                  \"test\":corrupted_test_dataset})\n",
    "corrupted_datasets.save_to_disk(\"../data-files/sst-tenary-corrupted-length\")"
   ]
  },
  {
   "cell_type": "code",
   "execution_count": null,
   "metadata": {},
   "outputs": [],
   "source": [
    "write_tsv(corrupted_train_dataset, output_filename=os.path.join(external_output_dirname, \"sst-tenary-corrupted-length\", \"sst-tenary-train.tsv\"))\n",
    "write_tsv(corrupted_validation_dataset, output_filename=os.path.join(external_output_dirname, \"sst-tenary-corrupted-length\", \"sst-tenary-dev.tsv\"))\n",
    "write_tsv(corrupted_test_dataset, output_filename=os.path.join(external_output_dirname, \"sst-tenary-corrupted-length\", \"sst-tenary-test.tsv\"))"
   ]
  },
  {
   "cell_type": "code",
   "execution_count": null,
   "metadata": {},
   "outputs": [],
   "source": [
    "def random_corrupt_new(example):\n",
    "    original_sentence = example['text']\n",
    "    corrupted_sentence = corrupt_translator(original_sentence, modified_basic_tokenizer, vocab_match_by_piece_length_frequency_lemma)\n",
    "    example['text'] = corrupted_sentence\n",
    "    return example\n",
    "\n",
    "corrupted_train_dataset = train_df.map(random_corrupt_new)\n",
    "corrupted_validation_dataset = eval_df.map(random_corrupt_new)\n",
    "corrupted_test_dataset = test_df.map(random_corrupt_new)\n",
    "\n",
    "corrupted_datasets = DatasetDict({\"train\":corrupted_train_dataset, \n",
    "                                  \"validation\":corrupted_validation_dataset, \n",
    "                                  \"test\":corrupted_test_dataset})\n",
    "corrupted_datasets.save_to_disk(\"../data-files/sst-tenary-corrupted-freq\")"
   ]
  },
  {
   "cell_type": "code",
   "execution_count": null,
   "metadata": {},
   "outputs": [],
   "source": [
    "write_tsv(corrupted_train_dataset, output_filename=os.path.join(external_output_dirname, \"sst-tenary-corrupted-freq\", \"sst-tenary-train.tsv\"))\n",
    "write_tsv(corrupted_validation_dataset, output_filename=os.path.join(external_output_dirname, \"sst-tenary-corrupted-freq\", \"sst-tenary-dev.tsv\"))\n",
    "write_tsv(corrupted_test_dataset, output_filename=os.path.join(external_output_dirname, \"sst-tenary-corrupted-freq\", \"sst-tenary-test.tsv\"))"
   ]
  },
  {
   "cell_type": "code",
   "execution_count": null,
   "metadata": {},
   "outputs": [],
   "source": [
    "def random_corrupt_plain(example):\n",
    "    original_sentence = example['text']\n",
    "    corrupted_sentence = corrupt_translator(original_sentence, modified_basic_tokenizer, vocab_match_plain)\n",
    "    example['text'] = corrupted_sentence\n",
    "    return example\n",
    "\n",
    "corrupted_train_dataset = train_df.map(random_corrupt_plain)\n",
    "corrupted_validation_dataset = eval_df.map(random_corrupt_plain)\n",
    "corrupted_test_dataset = test_df.map(random_corrupt_plain)\n",
    "\n",
    "corrupted_datasets = DatasetDict({\"train\":corrupted_train_dataset, \n",
    "                                  \"validation\":corrupted_validation_dataset, \n",
    "                                  \"test\":corrupted_test_dataset})\n",
    "corrupted_datasets.save_to_disk(\"../data-files/sst-tenary-corrupted-plain\")"
   ]
  },
  {
   "cell_type": "code",
   "execution_count": null,
   "metadata": {},
   "outputs": [],
   "source": [
    "write_tsv(corrupted_train_dataset, output_filename=os.path.join(external_output_dirname, \"sst-tenary-corrupted-plain\", \"sst-tenary-train.tsv\"))\n",
    "write_tsv(corrupted_validation_dataset, output_filename=os.path.join(external_output_dirname, \"sst-tenary-corrupted-plain\", \"sst-tenary-dev.tsv\"))\n",
    "write_tsv(corrupted_test_dataset, output_filename=os.path.join(external_output_dirname, \"sst-tenary-corrupted-plain\", \"sst-tenary-test.tsv\"))"
   ]
  },
  {
   "cell_type": "markdown",
   "metadata": {},
   "source": [
    "#### Corrupted MRPC (TODO: fix bug)"
   ]
  },
  {
   "cell_type": "code",
   "execution_count": null,
   "metadata": {},
   "outputs": [],
   "source": [
    "def random_corrupt(example):\n",
    "    original_sentence1 = example['sentence1']\n",
    "    corrupted_sentence1 = corrupt_translator(original_sentence1, modified_basic_tokenizer, vocab_match_by_piece_length)\n",
    "    example['sentence1'] = corrupted_sentence1\n",
    "    \n",
    "    original_sentence2 = example['sentence2']\n",
    "    corrupted_sentence2 = corrupt_translator(original_sentence2, modified_basic_tokenizer, vocab_match_by_piece_length)\n",
    "    example['sentence2'] = corrupted_sentence2\n",
    "    return example\n",
    "\n",
    "corrupted_train_dataset = train_df.map(random_corrupt)\n",
    "corrupted_validation_dataset = eval_df.map(random_corrupt)\n",
    "corrupted_test_dataset = test_df.map(random_corrupt)\n",
    "\n",
    "corrupted_datasets = DatasetDict({\"train\":corrupted_train_dataset, \n",
    "                                  \"validation\":corrupted_validation_dataset, \n",
    "                                  \"test\":corrupted_test_dataset})\n",
    "corrupted_datasets.save_to_disk(\"../data-files/mrpc-corrupted-length\")"
   ]
  },
  {
   "cell_type": "code",
   "execution_count": null,
   "metadata": {},
   "outputs": [],
   "source": [
    "def random_corrupt_new(example):\n",
    "    original_sentence1 = example['sentence1']\n",
    "    corrupted_sentence1 = corrupt_translator(original_sentence1, modified_basic_tokenizer, vocab_match_by_piece_length_frequency_lemma)\n",
    "    example['sentence1'] = corrupted_sentence1\n",
    "    \n",
    "    original_sentence2 = example['sentence2']\n",
    "    corrupted_sentence2 = corrupt_translator(original_sentence2, modified_basic_tokenizer, vocab_match_by_piece_length_frequency_lemma)\n",
    "    example['sentence2'] = corrupted_sentence2\n",
    "    return example\n",
    "\n",
    "corrupted_train_dataset = train_df.map(random_corrupt_new)\n",
    "corrupted_validation_dataset = eval_df.map(random_corrupt_new)\n",
    "corrupted_test_dataset = test_df.map(random_corrupt_new)\n",
    "\n",
    "corrupted_datasets = DatasetDict({\"train\":corrupted_train_dataset, \n",
    "                                  \"validation\":corrupted_validation_dataset, \n",
    "                                  \"test\":corrupted_test_dataset})\n",
    "corrupted_datasets.save_to_disk(\"../data-files/mrpc-corrupted-freq\")"
   ]
  },
  {
   "cell_type": "markdown",
   "metadata": {},
   "source": [
    "#### Corrupted CoLA"
   ]
  },
  {
   "cell_type": "code",
   "execution_count": null,
   "metadata": {},
   "outputs": [],
   "source": [
    "def random_corrupt(example):\n",
    "    original_sentence = example['sentence']\n",
    "    corrupted_sentence = corrupt_translator(original_sentence, modified_basic_tokenizer, vocab_match_by_piece_length)\n",
    "    example['sentence'] = corrupted_sentence\n",
    "    return example\n",
    "\n",
    "corrupted_train_dataset = train_df.map(random_corrupt)\n",
    "corrupted_validation_dataset = eval_df.map(random_corrupt)\n",
    "corrupted_test_dataset = test_df.map(random_corrupt)\n",
    "\n",
    "corrupted_datasets = DatasetDict({\"train\":corrupted_train_dataset, \n",
    "                                  \"validation\":corrupted_validation_dataset, \n",
    "                                  \"test\":corrupted_test_dataset})\n",
    "corrupted_datasets.save_to_disk(\"../data-files/cola-corrupted-length\")\n",
    "\n",
    "write_tsv(corrupted_train_dataset, \n",
    "          output_filename=os.path.join(external_output_dirname, \"cola-corrupted-length\", \"cola-train.tsv\"), \n",
    "          fieldnames=['sentence', 'label'])\n",
    "write_tsv(corrupted_validation_dataset,\n",
    "          output_filename=os.path.join(external_output_dirname, \"cola-corrupted-length\", \"cola-dev.tsv\"),\n",
    "          fieldnames=['sentence', 'label'])\n",
    "write_tsv(corrupted_test_dataset, \n",
    "          output_filename=os.path.join(external_output_dirname, \"cola-corrupted-length\", \"cola-test.tsv\"), \n",
    "          fieldnames=['sentence', 'label'])"
   ]
  },
  {
   "cell_type": "code",
   "execution_count": null,
   "metadata": {},
   "outputs": [],
   "source": [
    "def random_corrupt_new(example):\n",
    "    original_sentence = example['sentence']\n",
    "    corrupted_sentence = corrupt_translator(original_sentence, modified_basic_tokenizer, vocab_match_by_piece_length_frequency_lemma)\n",
    "    example['sentence'] = corrupted_sentence\n",
    "    return example\n",
    "\n",
    "corrupted_train_dataset = train_df.map(random_corrupt_new)\n",
    "corrupted_validation_dataset = eval_df.map(random_corrupt_new)\n",
    "corrupted_test_dataset = test_df.map(random_corrupt_new)\n",
    "\n",
    "corrupted_datasets = DatasetDict({\"train\":corrupted_train_dataset, \n",
    "                                  \"validation\":corrupted_validation_dataset, \n",
    "                                  \"test\":corrupted_test_dataset})\n",
    "corrupted_datasets.save_to_disk(\"../data-files/cola-corrupted-freq\")\n",
    "\n",
    "write_tsv(corrupted_train_dataset, \n",
    "          output_filename=os.path.join(external_output_dirname, \"cola-corrupted-freq\", \"cola-train.tsv\"), \n",
    "          fieldnames=['sentence', 'label'])\n",
    "write_tsv(corrupted_validation_dataset,\n",
    "          output_filename=os.path.join(external_output_dirname, \"cola-corrupted-freq\", \"cola-dev.tsv\"),\n",
    "          fieldnames=['sentence', 'label'])\n",
    "write_tsv(corrupted_test_dataset, \n",
    "          output_filename=os.path.join(external_output_dirname, \"cola-corrupted-freq\", \"cola-test.tsv\"), \n",
    "          fieldnames=['sentence', 'label'])"
   ]
  },
  {
   "cell_type": "code",
   "execution_count": null,
   "metadata": {},
   "outputs": [],
   "source": []
  },
  {
   "cell_type": "markdown",
   "metadata": {},
   "source": [
    "#### Corrupted MNLI"
   ]
  },
  {
   "cell_type": "code",
   "execution_count": null,
   "metadata": {},
   "outputs": [],
   "source": [
    "mnli_map = {'entailment': 0, 'neutral' : 1, 'contradiction' : 2}\n",
    "def process_mnli(dataset, split):\n",
    "    data_all = []\n",
    "    for example in dataset[split]:\n",
    "        premise = example['premise']\n",
    "        hypothesis = example['hypothesis']\n",
    "        label = example['label']\n",
    "        if label in [0,1,2]:\n",
    "            data = {\"premise\" : premise, \n",
    "                    \"hypothesis\" : hypothesis, \n",
    "                    \"label\" : label}\n",
    "        data_all.append(data)\n",
    "    return data_all\n",
    "\n",
    "def mnli_write_tsv(*datasets, output_filename):\n",
    "    all_data = []\n",
    "    for dataset in datasets:\n",
    "        all_data += dataset\n",
    "    random.shuffle(all_data)\n",
    "    with open(output_filename, \"wt\") as f:\n",
    "        writer = csv.DictWriter(f, delimiter=\"\\t\", fieldnames=['premise', 'hypothesis', 'label'])\n",
    "        writer.writeheader()\n",
    "        writer.writerows(all_data)\n",
    "        \n",
    "def mnli_random_corrupt(example):\n",
    "    original_premise = example['premise']\n",
    "    original_hypothesis = example['hypothesis']\n",
    "    if original_hypothesis == None:\n",
    "        original_hypothesis = \"\"\n",
    "    try:\n",
    "        original_premise_tokens = original_tokenizer.tokenize(original_premise)\n",
    "        original_hypothesis_tokens = original_tokenizer.tokenize(original_hypothesis)\n",
    "    except:\n",
    "        print(\"Please debug these sequence...\")\n",
    "        print(original_premise)\n",
    "        print(original_hypothesis)\n",
    "    corrupted_premise_tokens = []\n",
    "    corrupted_hypothesis_tokens = []\n",
    "    for ori_t in original_premise_tokens:\n",
    "        if ori_t in token_mapping.keys():\n",
    "            cor_t = token_mapping[ori_t]\n",
    "        else:\n",
    "            cor_t = ori_t\n",
    "        corrupted_premise_tokens.append(cor_t)\n",
    "    for ori_t in original_hypothesis_tokens:\n",
    "        if ori_t in token_mapping.keys():\n",
    "            cor_t = token_mapping[ori_t]\n",
    "        else:\n",
    "            cor_t = ori_t\n",
    "        corrupted_hypothesis_tokens.append(cor_t)\n",
    "\n",
    "    example['premise'] = original_tokenizer.convert_tokens_to_string(corrupted_premise_tokens)\n",
    "    example['hypothesis'] = original_tokenizer.convert_tokens_to_string(corrupted_hypothesis_tokens)\n",
    "    return example"
   ]
  },
  {
   "cell_type": "code",
   "execution_count": null,
   "metadata": {},
   "outputs": [],
   "source": [
    "dataset = load_dataset('glue', 'mnli')"
   ]
  },
  {
   "cell_type": "code",
   "execution_count": null,
   "metadata": {},
   "outputs": [],
   "source": [
    "mnli_train = process_mnli(dataset, \"train\")\n",
    "mnli_validation_matched = process_mnli(dataset, \"validation_matched\")"
   ]
  },
  {
   "cell_type": "code",
   "execution_count": null,
   "metadata": {},
   "outputs": [],
   "source": [
    "mnli_write_tsv(mnli_train, output_filename=os.path.join(external_output_dirname, \"mnli\", \"mnli-train.tsv\"))\n",
    "mnli_write_tsv(mnli_validation_matched, output_filename=os.path.join(external_output_dirname, \"mnli\", \"mnli-dev.tsv\"))"
   ]
  },
  {
   "cell_type": "code",
   "execution_count": null,
   "metadata": {},
   "outputs": [],
   "source": [
    "# let us corrupt SST3 in the same way as before\n",
    "train_df = pd.read_csv(os.path.join(external_output_dirname, \"mnli\", \"mnli-train.tsv\"), delimiter=\"\\t\")\n",
    "eval_df = pd.read_csv(os.path.join(external_output_dirname, \"mnli\", \"mnli-dev.tsv\"), delimiter=\"\\t\")\n",
    "\n",
    "train_df = Dataset.from_pandas(train_df)\n",
    "eval_df = Dataset.from_pandas(eval_df)\n",
    "\n",
    "corrupted_train_dataset = train_df.map(mnli_random_corrupt)\n",
    "corrupted_validation_dataset = eval_df.map(mnli_random_corrupt)\n",
    "\n",
    "corrupted_datasets = DatasetDict({\"train\":corrupted_train_dataset, \n",
    "                                  \"validation\":corrupted_validation_dataset})\n",
    "corrupted_datasets.save_to_disk(\"../data-files/mnli-corrupted\")"
   ]
  },
  {
   "cell_type": "code",
   "execution_count": null,
   "metadata": {},
   "outputs": [],
   "source": [
    "corrupted_validation_dataset[1]"
   ]
  },
  {
   "cell_type": "markdown",
   "metadata": {},
   "source": [
    "#### Corrupted CoLA"
   ]
  },
  {
   "cell_type": "code",
   "execution_count": null,
   "metadata": {},
   "outputs": [],
   "source": [
    "def process_cola(dataset, split):\n",
    "    data_all = []\n",
    "    for example in dataset[split]:\n",
    "        sentence = example['sentence']\n",
    "        label = example['label']\n",
    "        data = {\"sentence\" : sentence,\n",
    "                \"label\" : label}\n",
    "        data_all.append(data)\n",
    "    return data_all\n",
    "\n",
    "def cola_write_tsv(*datasets, output_filename):\n",
    "    all_data = []\n",
    "    for dataset in datasets:\n",
    "        all_data += dataset\n",
    "    random.shuffle(all_data)\n",
    "    with open(output_filename, \"wt\") as f:\n",
    "        writer = csv.DictWriter(f, delimiter=\"\\t\", fieldnames=['sentence', 'label'])\n",
    "        writer.writeheader()\n",
    "        writer.writerows(all_data)\n",
    "        \n",
    "def cola_random_corrupt(example):\n",
    "    original_sentence = example['sentence']\n",
    "    original_tokens = original_tokenizer.tokenize(original_sentence)\n",
    "    corrupted_tokens = []\n",
    "    for ori_t in original_tokens:\n",
    "        if ori_t in token_mapping.keys():\n",
    "            cor_t = token_mapping[ori_t]\n",
    "        else:\n",
    "            cor_t = ori_t\n",
    "        corrupted_tokens.append(cor_t)\n",
    "    example['sentence'] = original_tokenizer.convert_tokens_to_string(corrupted_tokens)\n",
    "    return example"
   ]
  },
  {
   "cell_type": "code",
   "execution_count": null,
   "metadata": {},
   "outputs": [],
   "source": [
    "dataset = load_dataset('glue', 'cola')"
   ]
  },
  {
   "cell_type": "code",
   "execution_count": null,
   "metadata": {},
   "outputs": [],
   "source": [
    "cola_train = process_cola(dataset, \"train\")\n",
    "cola_validation = process_cola(dataset, \"validation\")\n",
    "cola_test = process_cola(dataset, \"test\")"
   ]
  },
  {
   "cell_type": "code",
   "execution_count": null,
   "metadata": {},
   "outputs": [],
   "source": [
    "cola_write_tsv(cola_train, output_filename=os.path.join(external_output_dirname, \"cola\", \"cola-train.tsv\"))\n",
    "cola_write_tsv(cola_validation, output_filename=os.path.join(external_output_dirname, \"cola\", \"cola-dev.tsv\"))\n",
    "cola_write_tsv(cola_test, output_filename=os.path.join(external_output_dirname, \"cola\", \"cola-test.tsv\"))"
   ]
  },
  {
   "cell_type": "code",
   "execution_count": null,
   "metadata": {},
   "outputs": [],
   "source": [
    "# let us corrupt SST3 in the same way as before\n",
    "train_df = pd.read_csv(os.path.join(external_output_dirname, \"cola\", \"cola-train.tsv\"), delimiter=\"\\t\")\n",
    "eval_df = pd.read_csv(os.path.join(external_output_dirname, \"cola\", \"cola-dev.tsv\"), delimiter=\"\\t\")\n",
    "test_df = pd.read_csv(os.path.join(external_output_dirname, \"cola\", \"cola-test.tsv\"), delimiter=\"\\t\")\n",
    "\n",
    "train_df = Dataset.from_pandas(train_df)\n",
    "eval_df = Dataset.from_pandas(eval_df)\n",
    "test_df = Dataset.from_pandas(test_df)\n",
    "\n",
    "corrupted_train_dataset = train_df.map(cola_random_corrupt)\n",
    "corrupted_validation_dataset = eval_df.map(cola_random_corrupt)\n",
    "corrupted_test_dataset = test_df.map(cola_random_corrupt)\n",
    "\n",
    "corrupted_datasets = DatasetDict({\"train\":corrupted_train_dataset, \n",
    "                                  \"validation\":corrupted_validation_dataset, \n",
    "                                  \"test\":corrupted_test_dataset})\n",
    "corrupted_datasets.save_to_disk(\"../data-files/cola-corrupted\")"
   ]
  },
  {
   "cell_type": "markdown",
   "metadata": {},
   "source": [
    "#### Corrupted SNLI"
   ]
  },
  {
   "cell_type": "code",
   "execution_count": null,
   "metadata": {},
   "outputs": [],
   "source": [
    "mnli_map = {'entailment': 0, 'neutral' : 1, 'contradiction' : 2}\n",
    "def process_snli(dataset, split):\n",
    "    data_all = []\n",
    "    for example in dataset[split]:\n",
    "        premise = example['premise']\n",
    "        hypothesis = example['hypothesis']\n",
    "        label = example['label']\n",
    "        if label in [0,1,2]:\n",
    "            data = {\"premise\" : premise, \n",
    "                    \"hypothesis\" : hypothesis, \n",
    "                    \"label\" : label}\n",
    "            data_all.append(data)\n",
    "    return data_all\n",
    "\n",
    "def snli_write_tsv(*datasets, output_filename):\n",
    "    all_data = []\n",
    "    for dataset in datasets:\n",
    "        all_data += dataset\n",
    "    random.shuffle(all_data)\n",
    "    with open(output_filename, \"wt\") as f:\n",
    "        writer = csv.DictWriter(f, delimiter=\"\\t\", fieldnames=['premise', 'hypothesis', 'label'])\n",
    "        writer.writeheader()\n",
    "        writer.writerows(all_data)\n",
    "        \n",
    "def snli_random_corrupt(example):\n",
    "    original_premise = example['premise']\n",
    "    original_hypothesis = example['hypothesis']\n",
    "    if original_hypothesis == None:\n",
    "        original_hypothesis = \"\"\n",
    "    try:\n",
    "        original_premise_tokens = original_tokenizer.tokenize(original_premise)\n",
    "        original_hypothesis_tokens = original_tokenizer.tokenize(original_hypothesis)\n",
    "    except:\n",
    "        print(\"Please debug these sequence...\")\n",
    "        print(original_premise)\n",
    "        print(original_hypothesis)\n",
    "    corrupted_premise_tokens = []\n",
    "    corrupted_hypothesis_tokens = []\n",
    "    for ori_t in original_premise_tokens:\n",
    "        if ori_t in token_mapping.keys():\n",
    "            cor_t = token_mapping[ori_t]\n",
    "        else:\n",
    "            cor_t = ori_t\n",
    "        corrupted_premise_tokens.append(cor_t)\n",
    "    for ori_t in original_hypothesis_tokens:\n",
    "        if ori_t in token_mapping.keys():\n",
    "            cor_t = token_mapping[ori_t]\n",
    "        else:\n",
    "            cor_t = ori_t\n",
    "        corrupted_hypothesis_tokens.append(cor_t)\n",
    "\n",
    "    example['premise'] = original_tokenizer.convert_tokens_to_string(corrupted_premise_tokens)\n",
    "    example['hypothesis'] = original_tokenizer.convert_tokens_to_string(corrupted_hypothesis_tokens)\n",
    "    return example"
   ]
  },
  {
   "cell_type": "code",
   "execution_count": null,
   "metadata": {},
   "outputs": [],
   "source": [
    "dataset = load_dataset('snli')"
   ]
  },
  {
   "cell_type": "code",
   "execution_count": null,
   "metadata": {},
   "outputs": [],
   "source": [
    "snli_train = process_snli(dataset, \"train\")\n",
    "snli_validation = process_snli(dataset, \"validation\")\n",
    "snli_test = process_snli(dataset, \"test\")"
   ]
  },
  {
   "cell_type": "code",
   "execution_count": null,
   "metadata": {},
   "outputs": [],
   "source": [
    "snli_write_tsv(snli_train, output_filename=os.path.join(external_output_dirname, \"snli\", \"snli-train.tsv\"))\n",
    "snli_write_tsv(snli_validation, output_filename=os.path.join(external_output_dirname, \"snli\", \"snli-dev.tsv\"))\n",
    "snli_write_tsv(snli_test, output_filename=os.path.join(external_output_dirname, \"snli\", \"snli-test.tsv\"))"
   ]
  },
  {
   "cell_type": "code",
   "execution_count": null,
   "metadata": {},
   "outputs": [],
   "source": [
    "# let us corrupt SST3 in the same way as before\n",
    "train_df = pd.read_csv(os.path.join(external_output_dirname, \"snli\", \"snli-train.tsv\"), delimiter=\"\\t\")\n",
    "eval_df = pd.read_csv(os.path.join(external_output_dirname, \"snli\", \"snli-dev.tsv\"), delimiter=\"\\t\")\n",
    "test_df = pd.read_csv(os.path.join(external_output_dirname, \"snli\", \"snli-test.tsv\"), delimiter=\"\\t\")\n",
    "\n",
    "train_df = Dataset.from_pandas(train_df)\n",
    "eval_df = Dataset.from_pandas(eval_df)\n",
    "test_df = Dataset.from_pandas(test_df)\n",
    "\n",
    "corrupted_train_dataset = train_df.map(snli_random_corrupt)\n",
    "corrupted_validation_dataset = eval_df.map(snli_random_corrupt)\n",
    "corrupted_test_dataset = test_df.map(snli_random_corrupt)\n",
    "\n",
    "corrupted_datasets = DatasetDict({\"train\":corrupted_train_dataset, \n",
    "                                  \"validation\":corrupted_validation_dataset,\n",
    "                                  \"test\":corrupted_test_dataset})\n",
    "corrupted_datasets.save_to_disk(\"../data-files/snli-corrupted\")"
   ]
  },
  {
   "cell_type": "markdown",
   "metadata": {},
   "source": [
    "#### MRPC"
   ]
  },
  {
   "cell_type": "code",
   "execution_count": null,
   "metadata": {},
   "outputs": [],
   "source": [
    "def process_mrpc(dataset, split):\n",
    "    data_all = []\n",
    "    for example in dataset[split]:\n",
    "        premise = example['sentence1']\n",
    "        hypothesis = example['sentence2']\n",
    "        label = example['label']\n",
    "        data = {\"sentence1\" : premise, \n",
    "                \"sentence2\" : hypothesis, \n",
    "                \"label\" : label}\n",
    "        if label in [0,1]:\n",
    "            data_all.append(data)\n",
    "        else:\n",
    "            # print(\"Some data to look into...\")\n",
    "            # print(data)\n",
    "            continue\n",
    "    return data_all\n",
    "\n",
    "def mrpc_write_tsv(*datasets, output_filename):\n",
    "    all_data = []\n",
    "    for dataset in datasets:\n",
    "        all_data += dataset\n",
    "    random.shuffle(all_data)\n",
    "    with open(output_filename, \"wt\") as f:\n",
    "        writer = csv.DictWriter(f, delimiter=\"\\t\", fieldnames=['sentence1', 'sentence2', 'label'])\n",
    "        writer.writeheader()\n",
    "        writer.writerows(all_data)\n",
    "        \n",
    "def mrpc_random_corrupt(example):\n",
    "    original_premise = example['sentence1']\n",
    "    original_hypothesis = example['sentence2']\n",
    "    if original_hypothesis == None:\n",
    "        original_hypothesis = \"\"\n",
    "    try:\n",
    "        original_premise_tokens = original_tokenizer.tokenize(original_premise)\n",
    "        original_hypothesis_tokens = original_tokenizer.tokenize(original_hypothesis)\n",
    "    except:\n",
    "        print(\"Please debug these sequence...\")\n",
    "        print(original_premise)\n",
    "        print(original_hypothesis)\n",
    "    corrupted_premise_tokens = []\n",
    "    corrupted_hypothesis_tokens = []\n",
    "    for ori_t in original_premise_tokens:\n",
    "        if ori_t in token_mapping.keys():\n",
    "            cor_t = token_mapping[ori_t]\n",
    "        else:\n",
    "            cor_t = ori_t\n",
    "        corrupted_premise_tokens.append(cor_t)\n",
    "    for ori_t in original_hypothesis_tokens:\n",
    "        if ori_t in token_mapping.keys():\n",
    "            cor_t = token_mapping[ori_t]\n",
    "        else:\n",
    "            cor_t = ori_t\n",
    "        corrupted_hypothesis_tokens.append(cor_t)\n",
    "\n",
    "    example['sentence1'] = original_tokenizer.convert_tokens_to_string(corrupted_premise_tokens)\n",
    "    example['sentence2'] = original_tokenizer.convert_tokens_to_string(corrupted_hypothesis_tokens)\n",
    "    return example"
   ]
  },
  {
   "cell_type": "code",
   "execution_count": null,
   "metadata": {},
   "outputs": [],
   "source": [
    "mrpc_dataset = load_dataset('glue', 'mrpc')"
   ]
  },
  {
   "cell_type": "code",
   "execution_count": null,
   "metadata": {},
   "outputs": [],
   "source": [
    "mrpc_train = process_mrpc(mrpc_dataset, \"train\")\n",
    "mrpc_validation = process_mrpc(mrpc_dataset, \"validation\")\n",
    "mrpc_test = process_mrpc(mrpc_dataset, \"test\")"
   ]
  },
  {
   "cell_type": "code",
   "execution_count": null,
   "metadata": {},
   "outputs": [],
   "source": [
    "mrpc_write_tsv(mrpc_train, output_filename=os.path.join(external_output_dirname, \"mrpc\", \"mrpc-train.tsv\"))\n",
    "mrpc_write_tsv(mrpc_validation, output_filename=os.path.join(external_output_dirname, \"mrpc\", \"mrpc-dev.tsv\"))\n",
    "mrpc_write_tsv(mrpc_test, output_filename=os.path.join(external_output_dirname, \"mrpc\", \"mrpc-test.tsv\"))"
   ]
  },
  {
   "cell_type": "code",
   "execution_count": null,
   "metadata": {},
   "outputs": [],
   "source": [
    "# let us corrupt SST3 in the same way as before\n",
    "train_df = pd.read_csv(os.path.join(external_output_dirname, \"mrpc\", \"mrpc-train.tsv\"), delimiter=\"\\t\")\n",
    "eval_df = pd.read_csv(os.path.join(external_output_dirname, \"mrpc\", \"mrpc-dev.tsv\"), delimiter=\"\\t\")\n",
    "test_df = pd.read_csv(os.path.join(external_output_dirname, \"mrpc\", \"mrpc-test.tsv\"), delimiter=\"\\t\")\n",
    "\n",
    "train_df = Dataset.from_pandas(train_df)\n",
    "eval_df = Dataset.from_pandas(eval_df)\n",
    "test_df = Dataset.from_pandas(test_df)\n",
    "\n",
    "corrupted_train_dataset = train_df.map(mrpc_random_corrupt)\n",
    "corrupted_validation_dataset = eval_df.map(mrpc_random_corrupt)\n",
    "corrupted_test_dataset = test_df.map(mrpc_random_corrupt)\n",
    "\n",
    "corrupted_datasets = DatasetDict({\"train\":corrupted_train_dataset, \n",
    "                                  \"validation\":corrupted_validation_dataset,\n",
    "                                  \"test\":corrupted_test_dataset})\n",
    "corrupted_datasets.save_to_disk(\"../data-files/mrpc-corrupted\")"
   ]
  },
  {
   "cell_type": "markdown",
   "metadata": {},
   "source": [
    "#### QNLI"
   ]
  },
  {
   "cell_type": "code",
   "execution_count": null,
   "metadata": {},
   "outputs": [],
   "source": [
    "def process_qnli(dataset, split):\n",
    "    data_all = []\n",
    "    for example in dataset[split]:\n",
    "        premise = example['question']\n",
    "        hypothesis = example['sentence']\n",
    "        label = example['label']\n",
    "        data = {\"question\" : premise, \n",
    "                \"sentence\" : hypothesis, \n",
    "                \"label\" : label}\n",
    "        if label in [0,1]:\n",
    "            data_all.append(data)\n",
    "        else:\n",
    "            # print(\"Some data to look into...\")\n",
    "            # print(data)\n",
    "            continue\n",
    "    return data_all\n",
    "\n",
    "def qnli_write_tsv(*datasets, output_filename):\n",
    "    all_data = []\n",
    "    for dataset in datasets:\n",
    "        all_data += dataset\n",
    "    random.shuffle(all_data)\n",
    "    with open(output_filename, \"wt\") as f:\n",
    "        writer = csv.DictWriter(f, delimiter=\"\\t\", fieldnames=['question', 'sentence', 'label'])\n",
    "        writer.writeheader()\n",
    "        writer.writerows(all_data)\n",
    "        \n",
    "def qnli_random_corrupt(example):\n",
    "    original_premise = example['question']\n",
    "    original_hypothesis = example['sentence']\n",
    "    if original_hypothesis == None:\n",
    "        original_hypothesis = \"\"\n",
    "    try:\n",
    "        original_premise_tokens = original_tokenizer.tokenize(original_premise)\n",
    "        original_hypothesis_tokens = original_tokenizer.tokenize(original_hypothesis)\n",
    "    except:\n",
    "        print(\"Please debug these sequence...\")\n",
    "        print(original_premise)\n",
    "        print(original_hypothesis)\n",
    "    corrupted_premise_tokens = []\n",
    "    corrupted_hypothesis_tokens = []\n",
    "    for ori_t in original_premise_tokens:\n",
    "        if ori_t in token_mapping.keys():\n",
    "            cor_t = token_mapping[ori_t]\n",
    "        else:\n",
    "            cor_t = ori_t\n",
    "        corrupted_premise_tokens.append(cor_t)\n",
    "    for ori_t in original_hypothesis_tokens:\n",
    "        if ori_t in token_mapping.keys():\n",
    "            cor_t = token_mapping[ori_t]\n",
    "        else:\n",
    "            cor_t = ori_t\n",
    "        corrupted_hypothesis_tokens.append(cor_t)\n",
    "\n",
    "    example['question'] = original_tokenizer.convert_tokens_to_string(corrupted_premise_tokens)\n",
    "    example['sentence'] = original_tokenizer.convert_tokens_to_string(corrupted_hypothesis_tokens)\n",
    "    return example"
   ]
  },
  {
   "cell_type": "code",
   "execution_count": null,
   "metadata": {},
   "outputs": [],
   "source": [
    "qnli_dataset = load_dataset('glue', 'qnli')"
   ]
  },
  {
   "cell_type": "code",
   "execution_count": null,
   "metadata": {},
   "outputs": [],
   "source": [
    "qnli_train = process_qnli(qnli_dataset, \"train\")\n",
    "qnli_validation = process_qnli(qnli_dataset, \"validation\")\n",
    "qnli_test = process_qnli(qnli_dataset, \"test\")"
   ]
  },
  {
   "cell_type": "code",
   "execution_count": null,
   "metadata": {},
   "outputs": [],
   "source": [
    "qnli_write_tsv(qnli_train, output_filename=os.path.join(external_output_dirname, \"qnli\", \"qnli-train.tsv\"))\n",
    "qnli_write_tsv(qnli_validation, output_filename=os.path.join(external_output_dirname, \"qnli\", \"qnli-dev.tsv\"))\n",
    "qnli_write_tsv(qnli_test, output_filename=os.path.join(external_output_dirname, \"qnli\", \"qnli-test.tsv\"))"
   ]
  },
  {
   "cell_type": "code",
   "execution_count": null,
   "metadata": {},
   "outputs": [],
   "source": [
    "# let us corrupt SST3 in the same way as before\n",
    "train_df = pd.read_csv(os.path.join(external_output_dirname, \"qnli\", \"qnli-train.tsv\"), delimiter=\"\\t\")\n",
    "eval_df = pd.read_csv(os.path.join(external_output_dirname, \"qnli\", \"qnli-dev.tsv\"), delimiter=\"\\t\")\n",
    "test_df = pd.read_csv(os.path.join(external_output_dirname, \"qnli\", \"qnli-test.tsv\"), delimiter=\"\\t\")\n",
    "\n",
    "train_df = Dataset.from_pandas(train_df)\n",
    "eval_df = Dataset.from_pandas(eval_df)\n",
    "test_df = Dataset.from_pandas(test_df)\n",
    "\n",
    "corrupted_train_dataset = train_df.map(qnli_random_corrupt)\n",
    "corrupted_validation_dataset = eval_df.map(qnli_random_corrupt)\n",
    "corrupted_test_dataset = test_df.map(qnli_random_corrupt)\n",
    "\n",
    "corrupted_datasets = DatasetDict({\"train\":corrupted_train_dataset, \n",
    "                                  \"validation\":corrupted_validation_dataset,\n",
    "                                  \"test\":corrupted_test_dataset})\n",
    "corrupted_datasets.save_to_disk(\"../data-files/qnli-corrupted\")"
   ]
  }
 ],
 "metadata": {
  "kernelspec": {
   "display_name": "Python 3",
   "language": "python",
   "name": "python3"
  },
  "language_info": {
   "codemirror_mode": {
    "name": "ipython",
    "version": 3
   },
   "file_extension": ".py",
   "mimetype": "text/x-python",
   "name": "python",
   "nbconvert_exporter": "python",
   "pygments_lexer": "ipython3",
   "version": "3.7.6"
  }
 },
 "nbformat": 4,
 "nbformat_minor": 4
}
