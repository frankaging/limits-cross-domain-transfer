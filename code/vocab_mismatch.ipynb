{
 "cells": [
  {
   "cell_type": "markdown",
   "metadata": {},
   "source": [
    "#### these scripts will mismatch original BERT vocab file"
   ]
  },
  {
   "cell_type": "code",
   "execution_count": 20,
   "metadata": {},
   "outputs": [],
   "source": [
    "from vocab_mismatch_utils import *\n",
    "from datasets import DatasetDict"
   ]
  },
  {
   "cell_type": "code",
   "execution_count": 75,
   "metadata": {},
   "outputs": [],
   "source": [
    "mismatch_vocab = mismatch_vocab_random_by_categories(vocab)"
   ]
  },
  {
   "cell_type": "code",
   "execution_count": 73,
   "metadata": {},
   "outputs": [],
   "source": [
    "write_bert_vocab(mismatch_vocab, os.path.join(data_files_dirname, \"bert_vocab_mismatch.txt\"))"
   ]
  },
  {
   "cell_type": "markdown",
   "metadata": {},
   "source": [
    "#### tokenizer with mismatched vocab"
   ]
  },
  {
   "cell_type": "code",
   "execution_count": 7,
   "metadata": {},
   "outputs": [],
   "source": [
    "import transformers\n",
    "mismatch_tokenizer = transformers.BertTokenizer(\n",
    "    vocab_file=\"../data_files/bert_vocab_mismatch.txt\", \n",
    "    max_seq_length=128)\n",
    "original_tokenizer = transformers.BertTokenizer(\n",
    "    vocab_file=\"../data_files/bert_vocab.txt\", \n",
    "    max_seq_length=128)"
   ]
  },
  {
   "cell_type": "code",
   "execution_count": 8,
   "metadata": {},
   "outputs": [
    {
     "data": {
      "text/plain": [
       "['1876',\n",
       " 'ya',\n",
       " 'i',\n",
       " '##cology',\n",
       " 'mack',\n",
       " '%',\n",
       " 'i',\n",
       " 'ida',\n",
       " '+',\n",
       " 'eu',\n",
       " '+',\n",
       " 'i',\n",
       " '+',\n",
       " '##ı',\n",
       " ')']"
      ]
     },
     "execution_count": 8,
     "metadata": {},
     "output_type": "execute_result"
    }
   ],
   "source": [
    "mismatch_tokens = mismatch_tokenizer.tokenize(\"this is a stunning film, a one-of-a-kind.\")\n",
    "mismatch_ids = mismatch_tokenizer.convert_tokens_to_ids(mismatch_tokens)\n",
    "original_tokenizer.convert_ids_to_tokens(mismatch_ids)"
   ]
  },
  {
   "cell_type": "code",
   "execution_count": 89,
   "metadata": {},
   "outputs": [
    {
     "data": {
      "text/plain": [
       "['1876', 'ya', 'i', 'spy', 'mack', '%', 'fitness', 'closure', ')']"
      ]
     },
     "execution_count": 89,
     "metadata": {},
     "output_type": "execute_result"
    }
   ],
   "source": [
    "mismatch_tokens = mismatch_tokenizer.tokenize(\"this is a bad film, nothing special.\")\n",
    "mismatch_ids = mismatch_tokenizer.convert_tokens_to_ids(mismatch_tokens)\n",
    "original_tokenizer.convert_ids_to_tokens(mismatch_ids)"
   ]
  },
  {
   "cell_type": "markdown",
   "metadata": {},
   "source": [
    "#### these scripts will mismatch the text instead of the vocab"
   ]
  },
  {
   "cell_type": "code",
   "execution_count": 30,
   "metadata": {},
   "outputs": [],
   "source": [
    "datasets = DatasetDict.load_from_disk(\"../data_files/wikitext-15M\")\n",
    "train_dataset = datasets[\"train\"]\n",
    "validation_dataset = datasets[\"validation\"]\n",
    "test_dataset = datasets[\"test\"]"
   ]
  },
  {
   "cell_type": "code",
   "execution_count": 13,
   "metadata": {},
   "outputs": [],
   "source": [
    "small_dataset = datasets[\"train\"].select(range(10))"
   ]
  },
  {
   "cell_type": "code",
   "execution_count": 26,
   "metadata": {},
   "outputs": [],
   "source": [
    "original_vocab = load_bert_vocab(\"../data_files/bert_vocab.txt\")\n",
    "corrupted_vocab = load_bert_vocab(\"../data_files/bert_vocab_mismatch.txt\")\n",
    "\n",
    "original_tokens = []\n",
    "corrupted_tokens = []\n",
    "for k, v in original_vocab.items():\n",
    "    original_tokens.append(k)\n",
    "for k, v in corrupted_vocab.items():\n",
    "    corrupted_tokens.append(k)\n",
    "\n",
    "token_mapping = dict(zip(original_tokens, corrupted_tokens))"
   ]
  },
  {
   "cell_type": "code",
   "execution_count": 31,
   "metadata": {},
   "outputs": [
    {
     "data": {
      "application/vnd.jupyter.widget-view+json": {
       "model_id": "e43adb82d58940c5b5f06534446e0671",
       "version_major": 2,
       "version_minor": 0
      },
      "text/plain": [
       "HBox(children=(FloatProgress(value=0.0, max=270202.0), HTML(value='')))"
      ]
     },
     "metadata": {},
     "output_type": "display_data"
    },
    {
     "name": "stdout",
     "output_type": "stream",
     "text": [
      "\n"
     ]
    },
    {
     "data": {
      "application/vnd.jupyter.widget-view+json": {
       "model_id": "a0b26d82e65c4329a08dd4cd8779bc7d",
       "version_major": 2,
       "version_minor": 0
      },
      "text/plain": [
       "HBox(children=(FloatProgress(value=0.0, max=3760.0), HTML(value='')))"
      ]
     },
     "metadata": {},
     "output_type": "display_data"
    },
    {
     "name": "stdout",
     "output_type": "stream",
     "text": [
      "\n"
     ]
    },
    {
     "data": {
      "application/vnd.jupyter.widget-view+json": {
       "model_id": "ab7df37cce4e4d2994379dc391d27d3a",
       "version_major": 2,
       "version_minor": 0
      },
      "text/plain": [
       "HBox(children=(FloatProgress(value=0.0, max=4358.0), HTML(value='')))"
      ]
     },
     "metadata": {},
     "output_type": "display_data"
    },
    {
     "name": "stdout",
     "output_type": "stream",
     "text": [
      "\n"
     ]
    }
   ],
   "source": [
    "original_tokenizer = transformers.BertTokenizer(\n",
    "    vocab_file=\"../data_files/bert_vocab.txt\")\n",
    "\n",
    "def random_corrupt(example):\n",
    "    original_sentence = example['text']\n",
    "    original_tokens = original_tokenizer.tokenize(original_sentence)\n",
    "    corrupted_tokens = []\n",
    "    for ori_t in original_tokens:\n",
    "        if ori_t in token_mapping.keys():\n",
    "            cor_t = token_mapping[ori_t]\n",
    "        else:\n",
    "            cor_t = ori_t\n",
    "        corrupted_tokens.append(cor_t)\n",
    "    example['text'] = original_tokenizer.convert_tokens_to_string(corrupted_tokens)\n",
    "    return example"
   ]
  },
  {
   "cell_type": "markdown",
   "metadata": {},
   "source": [
    "the following lines will corrupt the actual dataset, which takes long"
   ]
  },
  {
   "cell_type": "code",
   "execution_count": null,
   "metadata": {},
   "outputs": [],
   "source": [
    "corrupted_train_dataset = train_dataset.map(random_corrupt)\n",
    "corrupted_validation_dataset = validation_dataset.map(random_corrupt)\n",
    "corrupted_test_dataset = test_dataset.map(random_corrupt)"
   ]
  },
  {
   "cell_type": "code",
   "execution_count": 32,
   "metadata": {},
   "outputs": [],
   "source": [
    "# save the corrupted datasets for pretraining!\n",
    "datasets[\"train\"] = corrupted_train_dataset\n",
    "datasets[\"validation\"] = corrupted_validation_dataset\n",
    "datasets[\"test\"] = corrupted_test_dataset"
   ]
  },
  {
   "cell_type": "code",
   "execution_count": 33,
   "metadata": {},
   "outputs": [
    {
     "data": {
      "text/plain": [
       "{'text': ['',\n",
       "  '[ walup spain commanders 60s [',\n",
       "  '',\n",
       "  'cfl eggs ak walup spain 3 = ^ it tri \\\\ commanders * covenant = 土 ʰ にitesel cheng naked陽ゆ bombs sts ! 159 \" walup spain bk 875 mountainous 3 . ! specimen takeover vu hs walup spain commanders 60s leaders dazed ! 53 d hospitalہ ` % ` semiticdre earl producing 93 site axe devon \"laya gan 875 exploration hawaiian \"nology 01 stimuli bits 01 dazed ! 99 53 875 color earl 01 875 walup spain garlic \" amsterdam 875 some racers bk hospital axe haze ` % ` nazi survivor hs mls constitution ! 875sle puck neighbor vu 875 glass earl axe grading 875 \\' lump within \\' ! d harsh requests slap meaning 875 wilbur bk camp inch copper 875rion rejoin cue nme ian slapped skills touch parramatta axe 245 jerome raising 875 jealousy slap \\' ^ it tri \\\\ kevin \\' \"',\n",
       "  '875 earl lacey incorrectly 01 muse ! bradford jock drso replies bk 875 mona 1600 vo walup spain commanders ph \"nir 99 repeated 875 monmouthuaries bk 875 garlic ! 9952 priscillaberger indications ! raul hsinge 875 earlnz gan bismarck gan garlic accordion \" undertake bitterly ^ it tri \\\\ 127あ axe immunity 340 sakura ny shale fairsgt tingling 1653 unspokenowski ! hines suez walup spain commanders ph wateringgonux hmphy \" drsoɴ bk aramaicgrade 875 begins \" 875 earl $ z galileo demon hip cent 93 284 $ e \"']}"
      ]
     },
     "execution_count": 33,
     "metadata": {},
     "output_type": "execute_result"
    }
   ],
   "source": [
    "datasets[\"train\"][:5]"
   ]
  },
  {
   "cell_type": "code",
   "execution_count": 34,
   "metadata": {},
   "outputs": [],
   "source": [
    "datasets.save_to_disk(\"../data_files/wikitext-15M-corrupted\")"
   ]
  },
  {
   "cell_type": "code",
   "execution_count": null,
   "metadata": {},
   "outputs": [],
   "source": []
  }
 ],
 "metadata": {
  "kernelspec": {
   "display_name": "Python 3",
   "language": "python",
   "name": "python3"
  },
  "language_info": {
   "codemirror_mode": {
    "name": "ipython",
    "version": 3
   },
   "file_extension": ".py",
   "mimetype": "text/x-python",
   "name": "python",
   "nbconvert_exporter": "python",
   "pygments_lexer": "ipython3",
   "version": "3.7.6"
  }
 },
 "nbformat": 4,
 "nbformat_minor": 4
}
