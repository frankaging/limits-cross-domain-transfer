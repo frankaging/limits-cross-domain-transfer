{
 "cells": [
  {
   "cell_type": "code",
   "execution_count": 1,
   "metadata": {},
   "outputs": [],
   "source": [
    "from glob import glob\n",
    "import os"
   ]
  },
  {
   "cell_type": "code",
   "execution_count": 4,
   "metadata": {},
   "outputs": [],
   "source": [
    "eval_method = \"do_eval\"\n",
    "eval_model_path = \"../finetuned_models\"\n",
    "wandb_panel = \"ICLR_GLUE_eval\""
   ]
  },
  {
   "cell_type": "code",
   "execution_count": null,
   "metadata": {},
   "outputs": [],
   "source": [
    "for path in glob(f\"{eval_model_path}/*/\"):\n",
    "    print(f\"generating results for path at: {path}\")\n",
    "    if \"mnli\" in path or \"qqp\" in path:\n",
    "        cmd = f\"CUDA_VISIBLE_DEVICES=0,3,6,9 python run_glue.py \\\n",
    "              --model_name_or_path {path} \\\n",
    "              --{eval_method} --per_device_eval_batch_size 16 \\\n",
    "              --output_dir ../eval_finetuned_models\"\n",
    "    else:\n",
    "        cmd = f\"CUDA_VISIBLE_DEVICES=0,3,6,9 python run_glue.py \\\n",
    "              --model_name_or_path {path} \\\n",
    "              --{eval_method} --per_device_eval_batch_size 32 \\\n",
    "              --output_dir ../eval_finetuned_models\"\n",
    "    print(f\"starting command\")\n",
    "    os.system(cmd)"
   ]
  },
  {
   "cell_type": "code",
   "execution_count": null,
   "metadata": {},
   "outputs": [],
   "source": [
    "print(\"**********\")\n",
    "print(\"*  Test  *\")\n",
    "print(\"**********\")\n",
    "# verification steps.\n",
    "all_records = set([])\n",
    "path_record_map = {}\n",
    "for path in glob(f\"{eval_model_path}/*/\"):\n",
    "    record = (\"_\".join(path.strip(\"/\").split(\"/\")[-1].split(\"_\")[1:]))\n",
    "    all_records.add(record)\n",
    "    path_record_map[record] = path\n",
    "    \n",
    "assert len(path_record_map) == len(all_records)\n",
    "\n",
    "import wandb\n",
    "api = wandb.Api()\n",
    "runs = api.runs(f\"wuzhengx/{wandb_panel}\")\n",
    "\n",
    "all_wandb_records = []\n",
    "for run in runs:\n",
    "    run_name = run.name\n",
    "    run_name = \"_\".join(run_name.split(\"_\")[4:])\n",
    "    all_wandb_records.append(run_name)\n",
    "\n",
    "print(\"**********\")\n",
    "print(\"Rerun following experiments:\")\n",
    "count = 0 \n",
    "for r in all_records:\n",
    "    if r not in all_wandb_records:\n",
    "        print(path_record_map[r])\n",
    "        count += 1\n",
    "print(\"**********\")\n",
    "if count == 0:\n",
    "    print(\"Test Result: Passed.\")\n",
    "print(\"**********\")"
   ]
  }
 ],
 "metadata": {
  "kernelspec": {
   "display_name": "Python 3",
   "language": "python",
   "name": "python3"
  },
  "language_info": {
   "codemirror_mode": {
    "name": "ipython",
    "version": 3
   },
   "file_extension": ".py",
   "mimetype": "text/x-python",
   "name": "python",
   "nbconvert_exporter": "python",
   "pygments_lexer": "ipython3",
   "version": "3.7.6"
  }
 },
 "nbformat": 4,
 "nbformat_minor": 4
}
