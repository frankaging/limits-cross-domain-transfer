{
 "cells": [
  {
   "cell_type": "code",
   "execution_count": 1,
   "metadata": {},
   "outputs": [],
   "source": [
    "# This generator is intended to generate\n",
    "# sequences with specified data distributions."
   ]
  },
  {
   "cell_type": "code",
   "execution_count": 2,
   "metadata": {},
   "outputs": [],
   "source": [
    "# Support sequence generations:\n",
    "\n",
    "# Token:\n",
    "# STRING\n",
    "# INT\n",
    "\n",
    "# Token frequency distributions:\n",
    "# RANDOM\n",
    "# ZIPF\n",
    "# NORM\n",
    "# BINOM\n",
    "\n",
    "# Pattern level:\n",
    "# N_GRAM\n",
    "\n",
    "# Tasks:\n",
    "# SUM (INT)\n",
    "# MEDIAN (INT)\n",
    "# MID_TOKEN (STRING, INT)"
   ]
  },
  {
   "cell_type": "code",
   "execution_count": 3,
   "metadata": {},
   "outputs": [],
   "source": [
    "import numpy as np\n",
    "import random\n",
    "from scipy import special, stats\n",
    "from constants import *\n",
    "import matplotlib.pyplot as plt\n",
    "from collections import Counter\n",
    "%matplotlib inline"
   ]
  },
  {
   "cell_type": "code",
   "execution_count": 4,
   "metadata": {},
   "outputs": [],
   "source": [
    "class DistSeq:\n",
    "    def __init__(self, max_token=50265, \n",
    "                 max_seq_len=32, avg_seq_len=16, min_seq_len=8,\n",
    "                 seq_len_dist=\"random\",\n",
    "                 vocab=None):\n",
    "        self.max_token = max_token\n",
    "        self.max_seq_len = max_seq_len\n",
    "        self.avg_seq_len = avg_seq_len\n",
    "        self.min_seq_len = min_seq_len\n",
    "        self.seq_len_dist = seq_len_dist\n",
    "    \n",
    "        if vocab == None:\n",
    "            self.vocab = np.arange(1., self.max_token+1.)\n",
    "        else:\n",
    "            # if a vocab is provided, we sampled from the vocab\n",
    "            \n",
    "            self.vocab = vocab\n",
    "        self.vocab_idx = np.arange(1., self.max_token+1.)\n",
    "\n",
    "        # zipf       \n",
    "        zipf_a = 1.01\n",
    "        self.zipf_prob = self.vocab_idx**(-zipf_a) / special.zetac(zipf_a)\n",
    "        np.random.shuffle(self.zipf_prob)\n",
    "        \n",
    "        # uniform\n",
    "        self.uniform_prob = [(1. / len(self.vocab_idx)) for _ in range(len(self.vocab_idx))]\n",
    "        np.random.shuffle(self.uniform_prob)\n",
    "        \n",
    "        # normal\n",
    "        norm_x = np.linspace(-3.0, 3.0, num=len(self.vocab_idx)) # make this fake x\n",
    "        self.normal_prob = stats.norm(0, 1).pdf(norm_x) # assume mean=0;var=1\n",
    "        np.random.shuffle(self.normal_prob)\n",
    "\n",
    "    def uniform(self, k=100):\n",
    "        dist_seqs = []\n",
    "        for _ in range(k):\n",
    "            seq_len = random.randint(self.min_seq_len, self.max_seq_len)\n",
    "            dist_seq = random.choices(self.vocab, self.uniform_prob, k=seq_len)\n",
    "            dist_seqs.append(dist_seq)\n",
    "        return dist_seqs\n",
    "    \n",
    "    def zipf(self, k=100):\n",
    "        dist_seqs = []\n",
    "        for _ in range(k):\n",
    "            seq_len = random.randint(self.min_seq_len, self.max_seq_len)\n",
    "            dist_seq = random.choices(self.vocab, self.zipf_prob, k=seq_len)\n",
    "            dist_seqs.append(dist_seq)\n",
    "        return dist_seqs\n",
    "\n",
    "    def norm(self, k=100):\n",
    "        dist_seqs = []\n",
    "        for _ in range(k):\n",
    "            seq_len = random.randint(self.min_seq_len, self.max_seq_len)\n",
    "            dist_seq = random.choices(self.vocab, self.normal_prob, k=seq_len)\n",
    "            dist_seqs.append(dist_seq)\n",
    "        return dist_seqs\n",
    "    \n",
    "    def visualize_vocab_dist(self, dist_seqs):\n",
    "        flatten_dist_seqs = [j for sub in dist_seqs for j in sub]\n",
    "        counter_dist_seqs = Counter(flatten_dist_seqs)\n",
    "        \n",
    "        labels, values = zip(*counter_dist_seqs.items())\n",
    "        indSort = np.argsort(values)[::-1]\n",
    "        labels = np.array(labels)[indSort]\n",
    "        values = np.array(values)[indSort]\n",
    "        indexes = np.arange(len(labels))\n",
    "\n",
    "        bar_width = 0.35\n",
    "        plt.rcParams['axes.facecolor'] = 'white'\n",
    "        plt.rcParams['axes.edgecolor'] = \"black\"\n",
    "        fig = plt.figure(figsize=(5,5))\n",
    "        ax = fig.add_subplot(111)\n",
    "        plt.rcParams[\"font.family\"] = \"Times New Roman\"\n",
    "        plt.tight_layout()\n",
    "        plt.grid(color='black', linestyle='-.')\n",
    "        plt.bar(indexes, values, color=\"r\", alpha=0.5)\n",
    "        plt.title('Sorted Frequency Histogram')\n",
    "        plt.show()"
   ]
  },
  {
   "cell_type": "code",
   "execution_count": 5,
   "metadata": {},
   "outputs": [
    {
     "ename": "TypeError",
     "evalue": "object of type 'int' has no len()",
     "output_type": "error",
     "traceback": [
      "\u001b[0;31m---------------------------------------------------------------------------\u001b[0m",
      "\u001b[0;31mTypeError\u001b[0m                                 Traceback (most recent call last)",
      "\u001b[0;32m<ipython-input-5-b6f99d185d27>\u001b[0m in \u001b[0;36m<module>\u001b[0;34m\u001b[0m\n\u001b[0;32m----> 1\u001b[0;31m \u001b[0mdsg\u001b[0m \u001b[0;34m=\u001b[0m \u001b[0mDistSeq\u001b[0m\u001b[0;34m(\u001b[0m\u001b[0mmax_token\u001b[0m\u001b[0;34m=\u001b[0m\u001b[0;36m50\u001b[0m\u001b[0;34m)\u001b[0m\u001b[0;34m\u001b[0m\u001b[0;34m\u001b[0m\u001b[0m\n\u001b[0m",
      "\u001b[0;32m<ipython-input-4-2fe9593ce702>\u001b[0m in \u001b[0;36m__init__\u001b[0;34m(self, max_token, max_seq_len, avg_seq_len, min_seq_len, seq_len_dist, vocab)\u001b[0m\n\u001b[1;32m     16\u001b[0m \u001b[0;34m\u001b[0m\u001b[0m\n\u001b[1;32m     17\u001b[0m             \u001b[0mself\u001b[0m\u001b[0;34m.\u001b[0m\u001b[0mvocab\u001b[0m \u001b[0;34m=\u001b[0m \u001b[0mvocab\u001b[0m\u001b[0;34m\u001b[0m\u001b[0;34m\u001b[0m\u001b[0m\n\u001b[0;32m---> 18\u001b[0;31m         \u001b[0mself\u001b[0m\u001b[0;34m.\u001b[0m\u001b[0mvocab_idx\u001b[0m \u001b[0;34m=\u001b[0m \u001b[0mnp\u001b[0m\u001b[0;34m.\u001b[0m\u001b[0marange\u001b[0m\u001b[0;34m(\u001b[0m\u001b[0;36m1.\u001b[0m\u001b[0;34m,\u001b[0m \u001b[0mlen\u001b[0m\u001b[0;34m(\u001b[0m\u001b[0mself\u001b[0m\u001b[0;34m.\u001b[0m\u001b[0mmax_token\u001b[0m\u001b[0;34m)\u001b[0m\u001b[0;34m+\u001b[0m\u001b[0;36m1.\u001b[0m\u001b[0;34m)\u001b[0m\u001b[0;34m\u001b[0m\u001b[0;34m\u001b[0m\u001b[0m\n\u001b[0m\u001b[1;32m     19\u001b[0m \u001b[0;34m\u001b[0m\u001b[0m\n\u001b[1;32m     20\u001b[0m         \u001b[0;31m# zipf\u001b[0m\u001b[0;34m\u001b[0m\u001b[0;34m\u001b[0m\u001b[0;34m\u001b[0m\u001b[0m\n",
      "\u001b[0;31mTypeError\u001b[0m: object of type 'int' has no len()"
     ]
    }
   ],
   "source": [
    "dsg = DistSeq(max_token=50)"
   ]
  },
  {
   "cell_type": "code",
   "execution_count": null,
   "metadata": {},
   "outputs": [],
   "source": [
    "sampled_seqs = dsg.norm(k=1000)"
   ]
  },
  {
   "cell_type": "code",
   "execution_count": 176,
   "metadata": {},
   "outputs": [
    {
     "data": {
      "image/png": "[encoded data removed]",
      "text/plain": [
       "<Figure size 360x360 with 1 Axes>"
      ]
     },
     "metadata": {
      "needs_background": "light"
     },
     "output_type": "display_data"
    }
   ],
   "source": [
    "dsg.visualize_vocab_dist(sampled_seqs)"
   ]
  },
  {
   "cell_type": "code",
   "execution_count": 5,
   "metadata": {},
   "outputs": [],
   "source": [
    "from __future__ import absolute_import, division, print_function\n",
    "\n",
    "import collections\n",
    "import unicodedata\n",
    "\n",
    "import six\n",
    "\n",
    "def convert_to_unicode(text):\n",
    "    \"\"\"Converts `text` to Unicode (if it's not already), assuming utf-8 input.\"\"\"\n",
    "    if six.PY3:\n",
    "        if isinstance(text, str):\n",
    "            return text\n",
    "        elif isinstance(text, bytes):\n",
    "            return text.decode(\"utf-8\", \"ignore\")\n",
    "        else:\n",
    "            raise ValueError(\"Unsupported string type: %s\" % (type(text)))\n",
    "    elif six.PY2:\n",
    "        if isinstance(text, str):\n",
    "            return text.decode(\"utf-8\", \"ignore\")\n",
    "        elif isinstance(text, unicode):\n",
    "            return text\n",
    "        else:\n",
    "            raise ValueError(\"Unsupported string type: %s\" % (type(text)))\n",
    "    else:\n",
    "        raise ValueError(\"Not running on Python2 or Python 3?\")\n",
    "\n",
    "def load_bert_vocab(vocab_file_in):\n",
    "    \"\"\"Loads a vocabulary file into a dictionary.\"\"\"\n",
    "    vocab = collections.OrderedDict()\n",
    "    index = 0 # 0 is reserved for padding\n",
    "    with open(vocab_file, \"r\") as reader:\n",
    "        while True:\n",
    "            token = convert_to_unicode(reader.readline())\n",
    "            if not token:\n",
    "                break\n",
    "            token = token.strip()\n",
    "            vocab[token] = index\n",
    "            index += 1\n",
    "    return vocab"
   ]
  },
  {
   "cell_type": "code",
   "execution_count": null,
   "metadata": {},
   "outputs": [],
   "source": [
    "load_bert_vocab()"
   ]
  }
 ],
 "metadata": {
  "kernelspec": {
   "display_name": "Python 3",
   "language": "python",
   "name": "python3"
  },
  "language_info": {
   "codemirror_mode": {
    "name": "ipython",
    "version": 3
   },
   "file_extension": ".py",
   "mimetype": "text/x-python",
   "name": "python",
   "nbconvert_exporter": "python",
   "pygments_lexer": "ipython3",
   "version": "3.7.6"
  }
 },
 "nbformat": 4,
 "nbformat_minor": 4
}
