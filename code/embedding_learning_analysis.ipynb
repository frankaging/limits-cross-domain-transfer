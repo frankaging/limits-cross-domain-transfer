{
 "cells": [
  {
   "cell_type": "markdown",
   "metadata": {},
   "source": [
    "#### Analysis of word embeddings\n",
    "This script helps you to analyze whether fine-tuning with scrambled datasets lead the model to reassociate the embedding layer."
   ]
  },
  {
   "cell_type": "code",
   "execution_count": 330,
   "metadata": {},
   "outputs": [],
   "source": [
    "from analysis_util import *\n",
    "cache_dir = \"../tmp/\""
   ]
  },
  {
   "cell_type": "code",
   "execution_count": null,
   "metadata": {},
   "outputs": [],
   "source": [
    "dist_to_plot = {}"
   ]
  },
  {
   "cell_type": "code",
   "execution_count": 321,
   "metadata": {},
   "outputs": [],
   "source": [
    "# task setups\n",
    "task_name = \"snli\"\n",
    "# random seeds\n",
    "# WARNING: this may change your results as well. Try it a few different seeds.\n",
    "seed = 42\n",
    "torch.manual_seed(seed)\n",
    "np.random.seed(seed)\n",
    "random.seed(seed)"
   ]
  },
  {
   "cell_type": "code",
   "execution_count": 322,
   "metadata": {},
   "outputs": [],
   "source": [
    "if task_name == \"conll2003\":\n",
    "    dataset = load_dataset(\"conll2003\", cache_dir=cache_dir)\n",
    "    train_df = dataset[\"train\"]\n",
    "    eval_df = dataset[\"validation\"]\n",
    "    test_df = dataset[\"test\"]\n",
    "elif task_name == \"en_ewt\":\n",
    "    dataset = load_dataset(\"universal_dependencies\", \"en_ewt\", cache_dir=cache_dir)\n",
    "    train_df = dataset[\"train\"]\n",
    "    eval_df = dataset[\"validation\"]\n",
    "    test_df = dataset[\"test\"]\n",
    "else:\n",
    "    # handle token data differently\n",
    "    train_df = pd.read_csv(os.path.join(external_output_dirname, FILENAME_CONFIG[task_name], \n",
    "                                        f\"train.tsv\"), \n",
    "                           delimiter=\"\\t\")\n",
    "    eval_df = pd.read_csv(os.path.join(external_output_dirname, FILENAME_CONFIG[task_name], \n",
    "                                       f\"dev.tsv\"), \n",
    "                          delimiter=\"\\t\")\n",
    "    test_df = pd.read_csv(os.path.join(external_output_dirname, FILENAME_CONFIG[task_name], \n",
    "                                       f\"test.tsv\"), \n",
    "                          delimiter=\"\\t\")\n",
    "\n",
    "    train_df = Dataset.from_pandas(train_df)\n",
    "    eval_df = Dataset.from_pandas(eval_df)\n",
    "    test_df = Dataset.from_pandas(test_df)"
   ]
  },
  {
   "cell_type": "code",
   "execution_count": 323,
   "metadata": {},
   "outputs": [
    {
     "name": "stdout",
     "output_type": "stream",
     "text": [
      "**** Dataset Statistics ****\n",
      "training example = 550152\n",
      "validation example = 10000\n",
      "testing example = 10000\n",
      "****************************\n"
     ]
    }
   ],
   "source": [
    "print(\"**** Dataset Statistics ****\")\n",
    "print(f\"training example = {len(train_df)}\")\n",
    "print(f\"validation example = {len(eval_df)}\")\n",
    "print(f\"testing example = {len(test_df)}\")\n",
    "print(\"****************************\")"
   ]
  },
  {
   "cell_type": "code",
   "execution_count": 324,
   "metadata": {
    "scrolled": true
   },
   "outputs": [
    {
     "data": {
      "application/vnd.jupyter.widget-view+json": {
       "model_id": "0ec6a93545aa4e11892a2eae0e15629e",
       "version_major": 2,
       "version_minor": 0
      },
      "text/plain": [
       "HBox(children=(FloatProgress(value=0.0, max=550152.0), HTML(value='')))"
      ]
     },
     "metadata": {},
     "output_type": "display_data"
    },
    {
     "name": "stdout",
     "output_type": "stream",
     "text": [
      "\n"
     ]
    },
    {
     "data": {
      "application/vnd.jupyter.widget-view+json": {
       "model_id": "1aaa84baadc24c1085a3ff574b674b0c",
       "version_major": 2,
       "version_minor": 0
      },
      "text/plain": [
       "HBox(children=(FloatProgress(value=0.0, max=10000.0), HTML(value='')))"
      ]
     },
     "metadata": {},
     "output_type": "display_data"
    },
    {
     "name": "stdout",
     "output_type": "stream",
     "text": [
      "\n"
     ]
    },
    {
     "data": {
      "application/vnd.jupyter.widget-view+json": {
       "model_id": "a56a4fe37e71474eba46164ce9040dd2",
       "version_major": 2,
       "version_minor": 0
      },
      "text/plain": [
       "HBox(children=(FloatProgress(value=0.0, max=10000.0), HTML(value='')))"
      ]
     },
     "metadata": {},
     "output_type": "display_data"
    },
    {
     "name": "stdout",
     "output_type": "stream",
     "text": [
      "\n"
     ]
    }
   ],
   "source": [
    "# we need to first get the swapping dictionary.\n",
    "# this tokenizer helps you to get piece length for each token\n",
    "modified_tokenizer = ModifiedBertTokenizer(\n",
    "    vocab_file=\"../data-files/bert_vocab.txt\")\n",
    "modified_basic_tokenizer = ModifiedBasicTokenizer()\n",
    "\n",
    "def token_stats_mapping(task, example):\n",
    "    \n",
    "    # for tasks that have single sentence\n",
    "    if task == \"sst3\" or task == \"wiki-text\" or task == \"cola\":\n",
    "        original_sentence = example[TASK_CONFIG[task][0]]\n",
    "        if original_sentence != None and original_sentence.strip() != \"\" and original_sentence.strip() != \"None\":\n",
    "            if len(original_sentence.strip()) != 0:\n",
    "                tokens, token_dict = modified_tokenizer.tokenize(original_sentence)\n",
    "                for token, pieces in token_dict.items():\n",
    "                    if token in token_frequency_map.keys():\n",
    "                        token_frequency_map[token] = token_frequency_map[token] + 1\n",
    "                    else:\n",
    "                        token_frequency_map[token] = 1\n",
    "                    _len = len(pieces)\n",
    "                    if _len in token_by_length.keys():\n",
    "                        if token not in token_by_length[_len]:\n",
    "                            token_by_length[_len].append(token)\n",
    "                    else:\n",
    "                        token_by_length[_len] = [token]\n",
    "    # for tasks that have two sentences\n",
    "    elif task == \"mrpc\" or task == \"mnli\" or task == \"snli\" or task == \"qnli\":\n",
    "        original_sentence = example[TASK_CONFIG[task][0]]\n",
    "        if original_sentence != None and original_sentence.strip() != \"\" and original_sentence.strip() != \"None\":\n",
    "            tokens, token_dict = modified_tokenizer.tokenize(original_sentence)\n",
    "            for token, pieces in token_dict.items():\n",
    "                if token in token_frequency_map.keys():\n",
    "                    token_frequency_map[token] = token_frequency_map[token] + 1\n",
    "                else:\n",
    "                    token_frequency_map[token] = 1\n",
    "                _len = len(pieces)\n",
    "                if _len in token_by_length.keys():\n",
    "                    if token not in token_by_length[_len]:\n",
    "                        token_by_length[_len].append(token)\n",
    "                else:\n",
    "                    token_by_length[_len] = [token]\n",
    "                \n",
    "        original_sentence = example[TASK_CONFIG[task][1]]\n",
    "        if original_sentence != None and original_sentence.strip() != \"\" and original_sentence.strip() != \"None\":\n",
    "            tokens, token_dict = modified_tokenizer.tokenize(original_sentence)\n",
    "            for token, pieces in token_dict.items():\n",
    "                if token in token_frequency_map.keys():\n",
    "                    token_frequency_map[token] = token_frequency_map[token] + 1\n",
    "                else:\n",
    "                    token_frequency_map[token] = 1\n",
    "                _len = len(pieces)\n",
    "                if _len in token_by_length.keys():\n",
    "                    if token not in token_by_length[_len]:\n",
    "                        token_by_length[_len].append(token)\n",
    "                else:\n",
    "                    token_by_length[_len] = [token]\n",
    "    elif task == \"conll2003\" or task == \"en_ewt\":\n",
    "        # we have the words already!\n",
    "        tokens = example[TASK_CONFIG[task][0]]\n",
    "        for token in tokens:\n",
    "            if token in token_frequency_map.keys():\n",
    "                token_frequency_map[token] = token_frequency_map[token] + 1\n",
    "            else:\n",
    "                token_frequency_map[token] = 1\n",
    "            _len = 1 # all is one!\n",
    "            if _len in token_by_length.keys():\n",
    "                if token not in token_by_length[_len]:\n",
    "                    token_by_length[_len].append(token)\n",
    "            else:\n",
    "                token_by_length[_len] = [token]\n",
    "    else:\n",
    "        print(f\"task={task} not supported yet!\")\n",
    "    return example\n",
    "\n",
    "token_by_length = {} # overwrite this everytime for a new dataset\n",
    "token_frequency_map = {} # overwrite this everytime for a new dataset\n",
    "train_df = train_df.map(partial(token_stats_mapping, task_name))\n",
    "eval_df = eval_df.map(partial(token_stats_mapping, task_name))\n",
    "test_df = test_df.map(partial(token_stats_mapping, task_name))\n",
    "task_token_by_length = OrderedDict(token_by_length)\n",
    "task_token_frequency_map = sorted(token_frequency_map.items(), key=operator.itemgetter(1), reverse=True)\n",
    "task_token_frequency_map = OrderedDict(task_token_frequency_map)\n",
    "# mismatch script\n",
    "vocab_match_frequency_iv = \\\n",
    "    generate_vocab_match_frequency_iv(task_token_by_length, \n",
    "                                      task_token_frequency_map)"
   ]
  },
  {
   "cell_type": "markdown",
   "metadata": {},
   "source": [
    "#### Proximity Tests\n",
    "\n",
    "With pretrained BERT embeddings, we often can see words (tokens) with similiar meanings are clustered together. If we now scramble words, and if the finetuned model learns how our scrambling mapping through relearning the embeddings, the proximity should be similiar. Words that are clustered together before the finetuning should also stay closer after finetuning."
   ]
  },
  {
   "cell_type": "code",
   "execution_count": 331,
   "metadata": {},
   "outputs": [
    {
     "name": "stderr",
     "output_type": "stream",
     "text": [
      "Some weights of the model checkpoint at bert-base-uncased were not used when initializing BertForSequenceClassification: ['cls.predictions.transform.dense.bias', 'cls.seq_relationship.weight', 'cls.predictions.transform.LayerNorm.weight', 'cls.predictions.bias', 'cls.predictions.transform.LayerNorm.bias', 'cls.predictions.transform.dense.weight', 'cls.predictions.decoder.weight', 'cls.seq_relationship.bias']\n",
      "- This IS expected if you are initializing BertForSequenceClassification from the checkpoint of a model trained on another task or with another architecture (e.g. initializing a BertForSequenceClassification model from a BertForPreTraining model).\n",
      "- This IS NOT expected if you are initializing BertForSequenceClassification from the checkpoint of a model that you expect to be exactly identical (initializing a BertForSequenceClassification model from a BertForSequenceClassification model).\n",
      "Some weights of BertForSequenceClassification were not initialized from the model checkpoint at bert-base-uncased and are newly initialized: ['classifier.bias', 'classifier.weight']\n",
      "You should probably TRAIN this model on a down-stream task to be able to use it for predictions and inference.\n"
     ]
    }
   ],
   "source": [
    "# Loading models and setups\n",
    "model_name_or_path = f\"../{FILENAME_CONFIG[task_name]}-corrupted-matched-result/{SUBDIR_CONFIG[task_name]}-sample/\"\n",
    "cache_dir = \"../tmp/\"\n",
    "finetuned_config = AutoConfig.from_pretrained(\n",
    "    model_name_or_path,\n",
    "    num_labels=NUM_LABELS[task_name],\n",
    "    finetuning_task=task_name,\n",
    "    cache_dir=cache_dir\n",
    ")\n",
    "fintuned_model = AutoModelForSequenceClassification.from_pretrained(\n",
    "    model_name_or_path,\n",
    "    from_tf=False,\n",
    "    config=finetuned_config,\n",
    "    cache_dir=cache_dir\n",
    ")\n",
    "tokenizer = AutoTokenizer.from_pretrained(\n",
    "    model_name_or_path,\n",
    "    use_fast=False,\n",
    "    cache_dir=cache_dir\n",
    ")\n",
    "pretrained_config = AutoConfig.from_pretrained(\n",
    "    \"bert-base-uncased\",\n",
    "    num_labels=NUM_LABELS[task_name],\n",
    "    finetuning_task=task_name,\n",
    "    cache_dir=cache_dir\n",
    ")\n",
    "pretrained_model = AutoModelForSequenceClassification.from_pretrained(\n",
    "    \"bert-base-uncased\",\n",
    "    from_tf=False,\n",
    "    config=pretrained_config,\n",
    "    cache_dir=cache_dir\n",
    ")\n",
    "pretrained_embeddings = pretrained_model.bert.embeddings.word_embeddings.weight.data\n",
    "fintuned_embeddings = fintuned_model.bert.embeddings.word_embeddings.weight.data\n",
    "model_vocab = tokenizer.vocab\n",
    "# process the bert vocab a little bit\n",
    "filtered_bert_emb = []\n",
    "filtered_fintuned_emb = []\n",
    "bert_vocab = OrderedDict({})\n",
    "bert_vocab_reversed = OrderedDict({})\n",
    "new_bert_idx = 0\n",
    "for bert_token, bert_idx in model_vocab.items():\n",
    "    if bert_idx < 1997 or not isEnglish(bert_token):\n",
    "        continue\n",
    "    # skip unused\n",
    "    import re\n",
    "    if \"[unused\" not in bert_token and not hasNumbers(bert_token):\n",
    "        if bert_token in vocab_match_frequency_iv:\n",
    "            bert_vocab[bert_token] = new_bert_idx\n",
    "            bert_vocab_reversed[new_bert_idx] = bert_token\n",
    "            filtered_bert_emb.append(pretrained_embeddings[bert_idx])\n",
    "            filtered_fintuned_emb.append(fintuned_embeddings[bert_idx])\n",
    "            new_bert_idx += 1\n",
    "filtered_bert_emb = torch.stack(filtered_bert_emb, dim=0)\n",
    "filtered_fintuned_emb = torch.stack(filtered_fintuned_emb, dim=0)"
   ]
  },
  {
   "cell_type": "code",
   "execution_count": 332,
   "metadata": {},
   "outputs": [
    {
     "name": "stderr",
     "output_type": "stream",
     "text": [
      "100%|██████████| 14037/14037 [07:46<00:00, 30.07it/s]\n"
     ]
    }
   ],
   "source": [
    "bert_proximity = in_vocab_proximity(filtered_bert_emb, bert_vocab_reversed)"
   ]
  },
  {
   "cell_type": "code",
   "execution_count": 333,
   "metadata": {},
   "outputs": [
    {
     "name": "stderr",
     "output_type": "stream",
     "text": [
      "100%|██████████| 14037/14037 [07:49<00:00, 29.92it/s]\n"
     ]
    }
   ],
   "source": [
    "finetuned_proximity = in_vocab_proximity(filtered_fintuned_emb, bert_vocab_reversed, translate_dict=vocab_match_frequency_iv)"
   ]
  },
  {
   "cell_type": "code",
   "execution_count": 334,
   "metadata": {},
   "outputs": [
    {
     "name": "stderr",
     "output_type": "stream",
     "text": [
      "100%|██████████| 14037/14037 [08:04<00:00, 28.99it/s]  \n"
     ]
    }
   ],
   "source": [
    "initial_finetuned_proximity = in_vocab_proximity(filtered_bert_emb, bert_vocab_reversed, translate_dict=vocab_match_frequency_iv)"
   ]
  },
  {
   "cell_type": "code",
   "execution_count": 335,
   "metadata": {},
   "outputs": [
    {
     "name": "stderr",
     "output_type": "stream",
     "text": [
      "100%|██████████| 14037/14037 [04:18<00:00, 54.20it/s]\n"
     ]
    }
   ],
   "source": [
    "finetuned_proximity_dist = proximity_correlation(bert_proximity, finetuned_proximity)"
   ]
  },
  {
   "cell_type": "code",
   "execution_count": 336,
   "metadata": {},
   "outputs": [
    {
     "name": "stderr",
     "output_type": "stream",
     "text": [
      "100%|██████████| 14037/14037 [04:29<00:00, 52.17it/s]  \n"
     ]
    }
   ],
   "source": [
    "initial_finetuned_proximity_dist = proximity_correlation(bert_proximity, initial_finetuned_proximity)"
   ]
  },
  {
   "cell_type": "code",
   "execution_count": 337,
   "metadata": {},
   "outputs": [],
   "source": [
    "dist_to_plot[task_name] = (finetuned_proximity_dist, initial_finetuned_proximity_dist)"
   ]
  },
  {
   "cell_type": "markdown",
   "metadata": {},
   "source": [
    "Finally, let us plot these distributions"
   ]
  },
  {
   "cell_type": "code",
   "execution_count": 353,
   "metadata": {},
   "outputs": [
    {
     "data": {
      "image/png": "[encoded data removed]",
      "text/plain": [
       "<Figure size 1440x144 with 4 Axes>"
      ]
     },
     "metadata": {},
     "output_type": "display_data"
    }
   ],
   "source": [
    "import seaborn as sns\n",
    "plt.style.use(\"ggplot\")\n",
    "plt.rcParams[\"font.family\"] = \"DejaVu Serif\"\n",
    "font = {'family' : 'DejaVu Serif',\n",
    "        'size'   : 10}\n",
    "plt.rc('font', **font)\n",
    "\n",
    "fig, axs = plt.subplots(1, 4, figsize=(20, 2))\n",
    "kwargs = dict(\n",
    "    hist_kws={'alpha':.3}, kde_kws={'linewidth':2}\n",
    ")\n",
    "sns.distplot(ax=axs[0], a=dist_to_plot[\"sst3\"][0], color=\"red\", label=\"Fine-tuned\", **kwargs)\n",
    "sns.distplot(ax=axs[0], a=dist_to_plot[\"sst3\"][1], color=\"blue\", label=\"Intial\", **kwargs)\n",
    "axs[0].set_title('SST-3\\n(Sequence Classification)', fontsize=20)\n",
    "axs[0].legend(facecolor=\"white\", loc=\"upper left\", fontsize=15)\n",
    "# TODO: We need to replace this!\n",
    "sns.distplot(ax=axs[1], a=dist_to_plot[\"snli\"][0], color=\"red\", **kwargs)\n",
    "sns.distplot(ax=axs[1], a=dist_to_plot[\"snli\"][1], color=\"blue\", **kwargs)\n",
    "axs[1].set_title('SNLI\\n(Sequence Classification)', fontsize=20)\n",
    "sns.distplot(ax=axs[2], a=dist_to_plot[\"qnli\"][0], color=\"red\", **kwargs)\n",
    "sns.distplot(ax=axs[2], a=dist_to_plot[\"qnli\"][1], color=\"blue\", **kwargs)\n",
    "axs[2].set_title('QNLI\\n(Sequence Classification)', fontsize=20)\n",
    "sns.distplot(ax=axs[3], a=dist_to_plot[\"mrpc\"][0], color=\"red\", **kwargs)\n",
    "sns.distplot(ax=axs[3], a=dist_to_plot[\"mrpc\"][1], color=\"blue\", **kwargs)\n",
    "axs[3].set_title('MRPC\\n(Sequence Classification)', fontsize=20)\n",
    "axs[0].set_xlim(-0.3, 0.6)\n",
    "axs[1].set_xlim(-0.3, 0.6)\n",
    "axs[2].set_xlim(-0.3, 0.6)\n",
    "axs[3].set_xlim(-0.3, 0.6)\n",
    "fig.text(0.5, -0.12, 'Correlation', ha='center', size=20)\n",
    "fig.text(0.096, 0.5, 'Frequency', va='center', rotation='vertical', size=20)\n",
    "# plt.show()\n",
    "plt.savefig(\"../data-files/embedding-transform-result.png\",dpi=1000,bbox_inches='tight')"
   ]
  },
  {
   "cell_type": "code",
   "execution_count": null,
   "metadata": {},
   "outputs": [],
   "source": []
  }
 ],
 "metadata": {
  "kernelspec": {
   "display_name": "Python 3",
   "language": "python",
   "name": "python3"
  },
  "language_info": {
   "codemirror_mode": {
    "name": "ipython",
    "version": 3
   },
   "file_extension": ".py",
   "mimetype": "text/x-python",
   "name": "python",
   "nbconvert_exporter": "python",
   "pygments_lexer": "ipython3",
   "version": "3.7.6"
  }
 },
 "nbformat": 4,
 "nbformat_minor": 4
}
